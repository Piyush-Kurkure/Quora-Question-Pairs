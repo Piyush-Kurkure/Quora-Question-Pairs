{
  "nbformat": 4,
  "nbformat_minor": 0,
  "metadata": {
    "colab": {
      "name": "quora_question_pairs.ipynb",
      "provenance": [],
      "toc_visible": true
    },
    "kernelspec": {
      "name": "python3",
      "display_name": "Python 3"
    },
    "accelerator": "GPU"
  },
  "cells": [
    {
      "cell_type": "markdown",
      "metadata": {
        "id": "FYgx5xSnNXPh",
        "colab_type": "text"
      },
      "source": [
        "# Description"
      ]
    },
    {
      "cell_type": "markdown",
      "metadata": {
        "id": "8er9t00bOoj2",
        "colab_type": "text"
      },
      "source": [
        "Goal - The main aim of this project is to identify whether question pairs in the dataset have the same content or not. The goal is to predict which of the provided pairs of questions contain two questions with the same meaning."
      ]
    },
    {
      "cell_type": "markdown",
      "metadata": {
        "id": "OoP0f5C6Nqf5",
        "colab_type": "text"
      },
      "source": [
        "This project is divided into three major parts:\n",
        "1. Data Analysis and Visualizations\n",
        "2. Developing Logistic Regression Model\n",
        "3. Developing LSTM Neural Network model"
      ]
    },
    {
      "cell_type": "markdown",
      "metadata": {
        "id": "UE70XOOSP6xW",
        "colab_type": "text"
      },
      "source": [
        "### Logistic Regression Model:\n",
        "Steps:\n",
        "1. Data Preprocessing - Transform features by scaling each feature \n",
        "2. Using GridSearchCV, we do Exhaustive search over specified parameter values for an estimator.\n",
        "3. Train LR model using best parameters.\n",
        "4. Visualize the results of CV parameters."
      ]
    },
    {
      "cell_type": "markdown",
      "metadata": {
        "id": "Gd0T1ML4Nak0",
        "colab_type": "text"
      },
      "source": [
        "### LSTM Model:\n",
        "\n",
        "Steps:\n",
        "1. Data Preprocessing - Convert text to machine readable format\n",
        "2. Prepare Embedding matrix using word index of text data in dataset with the help of word2vec for word Embeddings.\n",
        "3. Define the Model using Embedding layers and LSTM layers.\n",
        "4. Train and Learn the Model till ethical accuracy is attained."
      ]
    },
    {
      "cell_type": "markdown",
      "metadata": {
        "id": "d_5udynJHEqb",
        "colab_type": "text"
      },
      "source": [
        "# Import Libraries"
      ]
    },
    {
      "cell_type": "code",
      "metadata": {
        "id": "2npFXQAnGer-",
        "colab_type": "code",
        "colab": {
          "base_uri": "https://localhost:8080/",
          "height": 176
        },
        "outputId": "ae023a49-983a-4120-f28f-dcf363d32e20"
      },
      "source": [
        "import numpy as np # linear algebra\n",
        "import pandas as pd # data processing, CSV file I/O (e.g. pd.read_csv)\n",
        "import matplotlib.pyplot as plt\n",
        "import seaborn as sns\n",
        "from subprocess import check_output\n",
        "%matplotlib inline\n",
        "\n",
        "from nltk.corpus import stopwords\n",
        "from nltk import word_tokenize, ngrams\n",
        "from nltk.stem import SnowballStemmer\n",
        "from string import punctuation\n",
        "\n",
        "import nltk\n",
        "nltk.download('stopwords')\n",
        "nltk.download('punkt')\n",
        "\n",
        "import os\n",
        "import re\n",
        "import csv\n",
        "import codecs\n",
        "\n",
        "from gensim.models import KeyedVectors\n",
        "from keras.preprocessing.text import Tokenizer\n",
        "from keras.preprocessing.sequence import pad_sequences\n",
        "\n",
        "from keras.layers import Dense, Input, LSTM, Embedding, Dropout, Activation\n",
        "from keras.layers.merge import concatenate\n",
        "from keras.models import Model\n",
        "from keras.layers.normalization import BatchNormalization\n",
        "from keras.callbacks import EarlyStopping, ModelCheckpoint\n",
        "\n",
        "from sklearn import ensemble\n",
        "from sklearn.model_selection import KFold\n",
        "from sklearn.metrics import log_loss\n",
        "from sklearn.linear_model import LogisticRegression\n",
        "from sklearn.metrics import precision_recall_curve, auc, roc_curve\n",
        "from sklearn.model_selection import GridSearchCV, train_test_split\n",
        "from sklearn.preprocessing import MinMaxScaler\n",
        "\n",
        "import xgboost as xgb\n",
        "\n",
        "eng_stopwords = set(stopwords.words('english'))\n",
        "color = sns.color_palette()\n",
        "\n",
        "#Import the necessaries libraries\n",
        "import plotly.offline as py\n",
        "import plotly.graph_objs as go\n",
        "#Set notebook mode to work in offline\n",
        "py.init_notebook_mode(connected=True)\n",
        "import plotly.graph_objs as go\n",
        "import plotly.tools as tls\n",
        "\n",
        "import sys\n",
        "# reload(sys)\n",
        "# sys.setdefaultencoding('utf-8')\n",
        "\n",
        "pd.options.mode.chained_assignment = None  # default='warn'\n",
        "pd.set_option('display.max_columns', None)  # or 1000\n",
        "pd.set_option('display.max_colwidth', -1)"
      ],
      "execution_count": null,
      "outputs": [
        {
          "output_type": "stream",
          "text": [
            "[nltk_data] Downloading package stopwords to /root/nltk_data...\n",
            "[nltk_data]   Package stopwords is already up-to-date!\n",
            "[nltk_data] Downloading package punkt to /root/nltk_data...\n",
            "[nltk_data]   Package punkt is already up-to-date!\n"
          ],
          "name": "stdout"
        },
        {
          "output_type": "display_data",
          "data": {
            "text/html": [
              "        <script type=\"text/javascript\">\n",
              "        window.PlotlyConfig = {MathJaxConfig: 'local'};\n",
              "        if (window.MathJax) {MathJax.Hub.Config({SVG: {font: \"STIX-Web\"}});}\n",
              "        if (typeof require !== 'undefined') {\n",
              "        require.undef(\"plotly\");\n",
              "        requirejs.config({\n",
              "            paths: {\n",
              "                'plotly': ['https://cdn.plot.ly/plotly-latest.min']\n",
              "            }\n",
              "        });\n",
              "        require(['plotly'], function(Plotly) {\n",
              "            window._Plotly = Plotly;\n",
              "        });\n",
              "        }\n",
              "        </script>\n",
              "        "
            ]
          },
          "metadata": {
            "tags": []
          }
        },
        {
          "output_type": "stream",
          "text": [
            "/usr/local/lib/python3.6/dist-packages/ipykernel_launcher.py:59: FutureWarning:\n",
            "\n",
            "Passing a negative integer is deprecated in version 1.0 and will not be supported in future version. Instead, use None to not limit the column width.\n",
            "\n"
          ],
          "name": "stderr"
        }
      ]
    },
    {
      "cell_type": "code",
      "metadata": {
        "id": "QyMR5noDHSOy",
        "colab_type": "code",
        "colab": {}
      },
      "source": [
        "# from google.colab import drive\n",
        "# drive.mount('/content/gdrive')"
      ],
      "execution_count": null,
      "outputs": []
    },
    {
      "cell_type": "markdown",
      "metadata": {
        "id": "aS02BjzIKEFP",
        "colab_type": "text"
      },
      "source": [
        "# Import Files"
      ]
    },
    {
      "cell_type": "markdown",
      "metadata": {
        "id": "y6H7WVuGmP6_",
        "colab_type": "text"
      },
      "source": [
        "Initialize file paths for better searching in different systems."
      ]
    },
    {
      "cell_type": "code",
      "metadata": {
        "id": "T1JdCB56HIWq",
        "colab_type": "code",
        "colab": {}
      },
      "source": [
        "training_file_path = \"/content/gdrive/My Drive/quora-question-pairs/train.csv\"\n",
        "testing_file_path = \"/content/gdrive/My Drive/quora-question-pairs/test.csv\"\n",
        "embedding_file_path = \"/content/gdrive/My Drive/quora-question-pairs/GoogleNews-vectors-negative300.bin\""
      ],
      "execution_count": null,
      "outputs": []
    },
    {
      "cell_type": "code",
      "metadata": {
        "id": "Via2fSMaKG8V",
        "colab_type": "code",
        "colab": {
          "base_uri": "https://localhost:8080/",
          "height": 52
        },
        "outputId": "d91734e9-b546-4d74-d1df-33e978860d73"
      },
      "source": [
        "training_df = pd.read_csv(training_file_path).fillna(\"\")\n",
        "testing_df = pd.read_csv(testing_file_path).fillna(\"\")\n",
        "\n",
        "train_df = training_df.copy()\n",
        "test_df = testing_df.copy()\n",
        "print(train_df.shape)\n",
        "print(test_df.shape)"
      ],
      "execution_count": null,
      "outputs": [
        {
          "output_type": "stream",
          "text": [
            "(404290, 6)\n",
            "(2345796, 3)\n"
          ],
          "name": "stdout"
        }
      ]
    },
    {
      "cell_type": "markdown",
      "metadata": {
        "id": "m4sPfbrvKHRF",
        "colab_type": "text"
      },
      "source": [
        "# Data Visualization"
      ]
    },
    {
      "cell_type": "markdown",
      "metadata": {
        "id": "cuf5f6cgH6UA",
        "colab_type": "text"
      },
      "source": [
        "##### Output Variable"
      ]
    },
    {
      "cell_type": "markdown",
      "metadata": {
        "id": "OXKFEc--HqlR",
        "colab_type": "text"
      },
      "source": [
        "\n",
        "Let's first look at the target variable distribution (i.e is_duplicate).\n"
      ]
    },
    {
      "cell_type": "code",
      "metadata": {
        "id": "K0fG-H_IHOzj",
        "colab_type": "code",
        "colab": {
          "base_uri": "https://localhost:8080/",
          "height": 282
        },
        "outputId": "024fcccf-6294-49e7-fb14-3ae43b7d0cf7"
      },
      "source": [
        "target = train_df['is_duplicate'].value_counts()\n",
        "\n",
        "plt.figure(figsize=(8,4))\n",
        "sns.barplot(target.index, target.values)\n",
        "plt.ylabel('Number of Occurrences', fontsize=12)\n",
        "plt.xlabel('Is Duplicate', fontsize=12)\n",
        "plt.show()"
      ],
      "execution_count": null,
      "outputs": [
        {
          "output_type": "display_data",
          "data": {
            "image/png": "[encoded data removed]",
            "text/plain": [
              "<Figure size 576x288 with 1 Axes>"
            ]
          },
          "metadata": {
            "tags": [],
            "needs_background": "light"
          }
        }
      ]
    },
    {
      "cell_type": "code",
      "metadata": {
        "id": "dSY7mSvFHw_4",
        "colab_type": "code",
        "colab": {}
      },
      "source": [
        "# Combine questions of question1 and question2 column to get all questions in training data\n",
        "\n",
        "all_questions_training_df = pd.DataFrame(pd.concat([train_df['question1'], train_df['question2']]))\n",
        "all_questions_training_df.columns = [\"questions\"]\n",
        "\n",
        "\n",
        "# Calculating number of words in each question set\n",
        "all_questions_training_df[\"num_of_words\"] = all_questions_training_df[\"questions\"].apply(lambda x : len(str(x).split()))"
      ],
      "execution_count": null,
      "outputs": []
    },
    {
      "cell_type": "code",
      "metadata": {
        "id": "il63wE1WFS7U",
        "colab_type": "code",
        "colab": {
          "base_uri": "https://localhost:8080/",
          "height": 224
        },
        "outputId": "c0d7e7a1-a7d1-4db8-a262-76c45906fa06"
      },
      "source": [
        "print(all_questions_training_df.shape)\n",
        "all_questions_training_df.head()"
      ],
      "execution_count": null,
      "outputs": [
        {
          "output_type": "stream",
          "text": [
            "(808580, 2)\n"
          ],
          "name": "stdout"
        },
        {
          "output_type": "execute_result",
          "data": {
            "text/html": [
              "<div>\n",
              "<style scoped>\n",
              "    .dataframe tbody tr th:only-of-type {\n",
              "        vertical-align: middle;\n",
              "    }\n",
              "\n",
              "    .dataframe tbody tr th {\n",
              "        vertical-align: top;\n",
              "    }\n",
              "\n",
              "    .dataframe thead th {\n",
              "        text-align: right;\n",
              "    }\n",
              "</style>\n",
              "<table border=\"1\" class=\"dataframe\">\n",
              "  <thead>\n",
              "    <tr style=\"text-align: right;\">\n",
              "      <th></th>\n",
              "      <th>questions</th>\n",
              "      <th>num_of_words</th>\n",
              "    </tr>\n",
              "  </thead>\n",
              "  <tbody>\n",
              "    <tr>\n",
              "      <th>0</th>\n",
              "      <td>What is the step by step guide to invest in share market in india?</td>\n",
              "      <td>14</td>\n",
              "    </tr>\n",
              "    <tr>\n",
              "      <th>1</th>\n",
              "      <td>What is the story of Kohinoor (Koh-i-Noor) Diamond?</td>\n",
              "      <td>8</td>\n",
              "    </tr>\n",
              "    <tr>\n",
              "      <th>2</th>\n",
              "      <td>How can I increase the speed of my internet connection while using a VPN?</td>\n",
              "      <td>14</td>\n",
              "    </tr>\n",
              "    <tr>\n",
              "      <th>3</th>\n",
              "      <td>Why am I mentally very lonely? How can I solve it?</td>\n",
              "      <td>11</td>\n",
              "    </tr>\n",
              "    <tr>\n",
              "      <th>4</th>\n",
              "      <td>Which one dissolve in water quikly sugar, salt, methane and carbon di oxide?</td>\n",
              "      <td>13</td>\n",
              "    </tr>\n",
              "  </tbody>\n",
              "</table>\n",
              "</div>"
            ],
            "text/plain": [
              "                                                                      questions  \\\n",
              "0  What is the step by step guide to invest in share market in india?             \n",
              "1  What is the story of Kohinoor (Koh-i-Noor) Diamond?                            \n",
              "2  How can I increase the speed of my internet connection while using a VPN?      \n",
              "3  Why am I mentally very lonely? How can I solve it?                             \n",
              "4  Which one dissolve in water quikly sugar, salt, methane and carbon di oxide?   \n",
              "\n",
              "   num_of_words  \n",
              "0  14            \n",
              "1  8             \n",
              "2  14            \n",
              "3  11            \n",
              "4  13            "
            ]
          },
          "metadata": {
            "tags": []
          },
          "execution_count": 21
        }
      ]
    },
    {
      "cell_type": "markdown",
      "metadata": {
        "id": "F29CJ1RiHmqn",
        "colab_type": "text"
      },
      "source": [
        "##### Distribution of Number of Words per question"
      ]
    },
    {
      "cell_type": "markdown",
      "metadata": {
        "id": "75AVzK8pFing",
        "colab_type": "text"
      },
      "source": [
        "Bar Plot for number of questions having same \"Number of Words\" in each question."
      ]
    },
    {
      "cell_type": "code",
      "metadata": {
        "id": "DNhP8NTCIT84",
        "colab_type": "code",
        "colab": {
          "base_uri": "https://localhost:8080/",
          "height": 401
        },
        "outputId": "d5c42d94-95bc-4a8d-d71d-e3a9bc3550f2"
      },
      "source": [
        "count_number_of_words = all_questions_training_df['num_of_words'].value_counts()\n",
        "\n",
        "plt.figure(figsize=(12,6))\n",
        "sns.barplot(count_number_of_words.index, count_number_of_words.values)\n",
        "plt.ylabel('Number of Occurrences', fontsize=12)\n",
        "plt.xlabel('Number of words in the question', fontsize=12)\n",
        "plt.xticks(rotation='vertical')\n",
        "plt.show()"
      ],
      "execution_count": null,
      "outputs": [
        {
          "output_type": "display_data",
          "data": {
            "image/png": "[encoded data removed]",
            "text/plain": [
              "<Figure size 864x432 with 1 Axes>"
            ]
          },
          "metadata": {
            "tags": [],
            "needs_background": "light"
          }
        }
      ]
    },
    {
      "cell_type": "markdown",
      "metadata": {
        "id": "3XJj4wi9mhV-",
        "colab_type": "text"
      },
      "source": [
        "So, the distribution is right skewed. There are very less number of questions having 1-3 words per question. The majority of questions have words from 7-13 words per question."
      ]
    },
    {
      "cell_type": "markdown",
      "metadata": {
        "id": "X-9IOFc8Hf6K",
        "colab_type": "text"
      },
      "source": [
        "##### Distribution of Number of Characters per question"
      ]
    },
    {
      "cell_type": "code",
      "metadata": {
        "id": "MGfTSJZRIWUm",
        "colab_type": "code",
        "colab": {
          "base_uri": "https://localhost:8080/",
          "height": 196
        },
        "outputId": "e97086f1-a936-4778-95aa-73eaae514247"
      },
      "source": [
        "all_questions_training_df[\"num_of_chars\"] = all_questions_training_df[\"questions\"].apply(lambda x : len(str(x)))\n",
        "count_number_of_chars = all_questions_training_df['num_of_chars'].value_counts()\n",
        "\n",
        "plt.figure(figsize=(50,8))\n",
        "sns.barplot(count_number_of_chars.index, count_number_of_chars.values)\n",
        "plt.ylabel('Number of Occurrences', fontsize=12)\n",
        "plt.xlabel('Number of characters in the question', fontsize=12)\n",
        "plt.xticks(rotation='vertical')\n",
        "plt.show()      \n",
        "\n",
        "del all_questions_training_df"
      ],
      "execution_count": null,
      "outputs": [
        {
          "output_type": "display_data",
          "data": {
            "image/png": "[encoded data removed]",
            "text/plain": [
              "<Figure size 3600x576 with 1 Axes>"
            ]
          },
          "metadata": {
            "tags": [],
            "needs_background": "light"
          }
        }
      ]
    },
    {
      "cell_type": "code",
      "metadata": {
        "id": "I5C8D6kVHVXV",
        "colab_type": "code",
        "colab": {}
      },
      "source": [
        ""
      ],
      "execution_count": null,
      "outputs": []
    },
    {
      "cell_type": "markdown",
      "metadata": {
        "id": "qMu8-Bi0mlqo",
        "colab_type": "text"
      },
      "source": [
        "\n",
        "\n",
        "So, It can be found that Number of characters distribution is also right skewed.\n"
      ]
    },
    {
      "cell_type": "markdown",
      "metadata": {
        "id": "ZwzJh1BeHXAO",
        "colab_type": "text"
      },
      "source": [
        "#### Distribution of common unigrams between the given question pairs."
      ]
    },
    {
      "cell_type": "code",
      "metadata": {
        "id": "F_XLHO4Wml-B",
        "colab_type": "code",
        "colab": {}
      },
      "source": [
        "def get_unigrams(que):\n",
        "    return [word for word in word_tokenize(que.lower()) if word not in eng_stopwords]\n",
        "\n",
        "def get_common_unigrams(row):\n",
        "    return len( set(row[\"unigrams_ques1\"]).intersection(set(row[\"unigrams_ques2\"])) )\n",
        "\n",
        "def get_common_unigram_ratio(row):\n",
        "    return float(row[\"unigrams_common_count\"]) / max(len( set(row[\"unigrams_ques1\"]).union(set(row[\"unigrams_ques2\"])) ),1)"
      ],
      "execution_count": null,
      "outputs": []
    },
    {
      "cell_type": "code",
      "metadata": {
        "id": "jm8nmpoOHvNb",
        "colab_type": "code",
        "colab": {
          "base_uri": "https://localhost:8080/",
          "height": 52
        },
        "outputId": "0b235d3c-62f9-474e-9c11-cc2c39dc6b3d"
      },
      "source": [
        "%%time\n",
        "train_df[\"unigrams_ques1\"] = train_df['question1'].apply(lambda x: get_unigrams(str(x)))\n",
        "train_df[\"unigrams_ques2\"] = train_df['question2'].apply(lambda x: get_unigrams(str(x)))\n",
        "train_df[\"unigrams_common_count\"] = train_df.apply(lambda row: get_common_unigrams(row),axis=1)\n",
        "train_df[\"unigrams_common_ratio\"] = train_df.apply(lambda row: get_common_unigram_ratio(row), axis=1)"
      ],
      "execution_count": null,
      "outputs": [
        {
          "output_type": "stream",
          "text": [
            "CPU times: user 1min 57s, sys: 292 ms, total: 1min 57s\n",
            "Wall time: 1min 57s\n"
          ],
          "name": "stdout"
        }
      ]
    },
    {
      "cell_type": "code",
      "metadata": {
        "id": "VmehaNS4Hwgy",
        "colab_type": "code",
        "colab": {
          "base_uri": "https://localhost:8080/",
          "height": 817
        },
        "outputId": "71dbd6a6-e65a-4bb2-e54a-2d74c8f87941"
      },
      "source": [
        "print(train_df.shape)\n",
        "train_df.head()"
      ],
      "execution_count": null,
      "outputs": [
        {
          "output_type": "stream",
          "text": [
            "(404290, 10)\n"
          ],
          "name": "stdout"
        },
        {
          "output_type": "execute_result",
          "data": {
            "text/html": [
              "<div>\n",
              "<style scoped>\n",
              "    .dataframe tbody tr th:only-of-type {\n",
              "        vertical-align: middle;\n",
              "    }\n",
              "\n",
              "    .dataframe tbody tr th {\n",
              "        vertical-align: top;\n",
              "    }\n",
              "\n",
              "    .dataframe thead th {\n",
              "        text-align: right;\n",
              "    }\n",
              "</style>\n",
              "<table border=\"1\" class=\"dataframe\">\n",
              "  <thead>\n",
              "    <tr style=\"text-align: right;\">\n",
              "      <th></th>\n",
              "      <th>id</th>\n",
              "      <th>qid1</th>\n",
              "      <th>qid2</th>\n",
              "      <th>question1</th>\n",
              "      <th>question2</th>\n",
              "      <th>is_duplicate</th>\n",
              "      <th>unigrams_ques1</th>\n",
              "      <th>unigrams_ques2</th>\n",
              "      <th>unigrams_common_count</th>\n",
              "      <th>unigrams_common_ratio</th>\n",
              "    </tr>\n",
              "  </thead>\n",
              "  <tbody>\n",
              "    <tr>\n",
              "      <th>0</th>\n",
              "      <td>0</td>\n",
              "      <td>1</td>\n",
              "      <td>2</td>\n",
              "      <td>What is the step by step guide to invest in share market in india?</td>\n",
              "      <td>What is the step by step guide to invest in share market?</td>\n",
              "      <td>0</td>\n",
              "      <td>[step, step, guide, invest, share, market, india, ?]</td>\n",
              "      <td>[step, step, guide, invest, share, market, ?]</td>\n",
              "      <td>6</td>\n",
              "      <td>0.857143</td>\n",
              "    </tr>\n",
              "    <tr>\n",
              "      <th>1</th>\n",
              "      <td>1</td>\n",
              "      <td>3</td>\n",
              "      <td>4</td>\n",
              "      <td>What is the story of Kohinoor (Koh-i-Noor) Diamond?</td>\n",
              "      <td>What would happen if the Indian government stole the Kohinoor (Koh-i-Noor) diamond back?</td>\n",
              "      <td>0</td>\n",
              "      <td>[story, kohinoor, (, koh-i-noor, ), diamond, ?]</td>\n",
              "      <td>[would, happen, indian, government, stole, kohinoor, (, koh-i-noor, ), diamond, back, ?]</td>\n",
              "      <td>6</td>\n",
              "      <td>0.461538</td>\n",
              "    </tr>\n",
              "    <tr>\n",
              "      <th>2</th>\n",
              "      <td>2</td>\n",
              "      <td>5</td>\n",
              "      <td>6</td>\n",
              "      <td>How can I increase the speed of my internet connection while using a VPN?</td>\n",
              "      <td>How can Internet speed be increased by hacking through DNS?</td>\n",
              "      <td>0</td>\n",
              "      <td>[increase, speed, internet, connection, using, vpn, ?]</td>\n",
              "      <td>[internet, speed, increased, hacking, dns, ?]</td>\n",
              "      <td>3</td>\n",
              "      <td>0.300000</td>\n",
              "    </tr>\n",
              "    <tr>\n",
              "      <th>3</th>\n",
              "      <td>3</td>\n",
              "      <td>7</td>\n",
              "      <td>8</td>\n",
              "      <td>Why am I mentally very lonely? How can I solve it?</td>\n",
              "      <td>Find the remainder when [math]23^{24}[/math] is divided by 24,23?</td>\n",
              "      <td>0</td>\n",
              "      <td>[mentally, lonely, ?, solve, ?]</td>\n",
              "      <td>[find, remainder, [, math, ], 23^, {, 24, }, [, /math, ], divided, 24,23, ?]</td>\n",
              "      <td>1</td>\n",
              "      <td>0.062500</td>\n",
              "    </tr>\n",
              "    <tr>\n",
              "      <th>4</th>\n",
              "      <td>4</td>\n",
              "      <td>9</td>\n",
              "      <td>10</td>\n",
              "      <td>Which one dissolve in water quikly sugar, salt, methane and carbon di oxide?</td>\n",
              "      <td>Which fish would survive in salt water?</td>\n",
              "      <td>0</td>\n",
              "      <td>[one, dissolve, water, quikly, sugar, ,, salt, ,, methane, carbon, di, oxide, ?]</td>\n",
              "      <td>[fish, would, survive, salt, water, ?]</td>\n",
              "      <td>3</td>\n",
              "      <td>0.200000</td>\n",
              "    </tr>\n",
              "  </tbody>\n",
              "</table>\n",
              "</div>"
            ],
            "text/plain": [
              "   id  qid1  qid2  \\\n",
              "0  0   1     2      \n",
              "1  1   3     4      \n",
              "2  2   5     6      \n",
              "3  3   7     8      \n",
              "4  4   9     10     \n",
              "\n",
              "                                                                      question1  \\\n",
              "0  What is the step by step guide to invest in share market in india?             \n",
              "1  What is the story of Kohinoor (Koh-i-Noor) Diamond?                            \n",
              "2  How can I increase the speed of my internet connection while using a VPN?      \n",
              "3  Why am I mentally very lonely? How can I solve it?                             \n",
              "4  Which one dissolve in water quikly sugar, salt, methane and carbon di oxide?   \n",
              "\n",
              "                                                                                  question2  \\\n",
              "0  What is the step by step guide to invest in share market?                                  \n",
              "1  What would happen if the Indian government stole the Kohinoor (Koh-i-Noor) diamond back?   \n",
              "2  How can Internet speed be increased by hacking through DNS?                                \n",
              "3  Find the remainder when [math]23^{24}[/math] is divided by 24,23?                          \n",
              "4  Which fish would survive in salt water?                                                    \n",
              "\n",
              "   is_duplicate  \\\n",
              "0  0              \n",
              "1  0              \n",
              "2  0              \n",
              "3  0              \n",
              "4  0              \n",
              "\n",
              "                                                                     unigrams_ques1  \\\n",
              "0  [step, step, guide, invest, share, market, india, ?]                               \n",
              "1  [story, kohinoor, (, koh-i-noor, ), diamond, ?]                                    \n",
              "2  [increase, speed, internet, connection, using, vpn, ?]                             \n",
              "3  [mentally, lonely, ?, solve, ?]                                                    \n",
              "4  [one, dissolve, water, quikly, sugar, ,, salt, ,, methane, carbon, di, oxide, ?]   \n",
              "\n",
              "                                                                             unigrams_ques2  \\\n",
              "0  [step, step, guide, invest, share, market, ?]                                              \n",
              "1  [would, happen, indian, government, stole, kohinoor, (, koh-i-noor, ), diamond, back, ?]   \n",
              "2  [internet, speed, increased, hacking, dns, ?]                                              \n",
              "3  [find, remainder, [, math, ], 23^, {, 24, }, [, /math, ], divided, 24,23, ?]               \n",
              "4  [fish, would, survive, salt, water, ?]                                                     \n",
              "\n",
              "   unigrams_common_count  unigrams_common_ratio  \n",
              "0  6                      0.857143               \n",
              "1  6                      0.461538               \n",
              "2  3                      0.300000               \n",
              "3  1                      0.062500               \n",
              "4  3                      0.200000               "
            ]
          },
          "metadata": {
            "tags": []
          },
          "execution_count": 26
        }
      ]
    },
    {
      "cell_type": "code",
      "metadata": {
        "id": "acM80nvXmnqs",
        "colab_type": "code",
        "colab": {
          "base_uri": "https://localhost:8080/",
          "height": 391
        },
        "outputId": "04648dc1-b98d-4811-d2e2-6901cba616d7"
      },
      "source": [
        "count_common_unigrams = train_df['unigrams_common_count'].value_counts()\n",
        "\n",
        "plt.figure(figsize=(12,6))\n",
        "sns.barplot(count_common_unigrams.index, count_common_unigrams.values, alpha=0.8)\n",
        "plt.ylabel('Number of Occurrences', fontsize=12)\n",
        "plt.xlabel('Common unigrams count', fontsize=12)\n",
        "plt.show()"
      ],
      "execution_count": null,
      "outputs": [
        {
          "output_type": "display_data",
          "data": {
            "image/png": "[encoded data removed]",
            "text/plain": [
              "<Figure size 864x432 with 1 Axes>"
            ]
          },
          "metadata": {
            "tags": [],
            "needs_background": "light"
          }
        }
      ]
    },
    {
      "cell_type": "markdown",
      "metadata": {
        "id": "nnopSSMOIkZK",
        "colab_type": "text"
      },
      "source": [
        "It is observed that most common frequenct of common unigrams is 3."
      ]
    },
    {
      "cell_type": "markdown",
      "metadata": {
        "id": "msHoVrOaIzMO",
        "colab_type": "text"
      },
      "source": [
        "Let's plot 'common unigram count' for each type of output variable."
      ]
    },
    {
      "cell_type": "code",
      "metadata": {
        "id": "whvKAexempWW",
        "colab_type": "code",
        "colab": {
          "base_uri": "https://localhost:8080/",
          "height": 391
        },
        "outputId": "91018f28-6cec-408d-880f-ffd5132dd4ad"
      },
      "source": [
        "plt.figure(figsize=(12,6))\n",
        "sns.boxplot(x=\"is_duplicate\", y=\"unigrams_common_count\", data=train_df)\n",
        "plt.xlabel('Is duplicate', fontsize=12)\n",
        "plt.ylabel('Common unigrams count', fontsize=12)\n",
        "plt.show()"
      ],
      "execution_count": null,
      "outputs": [
        {
          "output_type": "display_data",
          "data": {
            "image/png": "[encoded data removed]",
            "text/plain": [
              "<Figure size 864x432 with 1 Axes>"
            ]
          },
          "metadata": {
            "tags": [],
            "needs_background": "light"
          }
        }
      ]
    },
    {
      "cell_type": "markdown",
      "metadata": {
        "id": "e8w-VvBimtXx",
        "colab_type": "text"
      },
      "source": [
        "\n",
        "\n",
        "There is some good difference between 0 and 1 class using the common unigram count variable. Let us look at the same graph using common unigrams ratio.\n"
      ]
    },
    {
      "cell_type": "code",
      "metadata": {
        "id": "TUgxqNJ6mq2P",
        "colab_type": "code",
        "colab": {
          "base_uri": "https://localhost:8080/",
          "height": 391
        },
        "outputId": "415a94c2-a160-4cd9-9fa3-5822e038eaf4"
      },
      "source": [
        "plt.figure(figsize=(12,6))\n",
        "sns.boxplot(x=\"is_duplicate\", y=\"unigrams_common_ratio\", data=train_df)\n",
        "plt.xlabel('Is duplicate', fontsize=12)\n",
        "plt.ylabel('Common unigrams ratio', fontsize=12)\n",
        "plt.show()"
      ],
      "execution_count": null,
      "outputs": [
        {
          "output_type": "display_data",
          "data": {
            "image/png": "[encoded data removed]",
            "text/plain": [
              "<Figure size 864x432 with 1 Axes>"
            ]
          },
          "metadata": {
            "tags": [],
            "needs_background": "light"
          }
        }
      ]
    },
    {
      "cell_type": "markdown",
      "metadata": {
        "id": "90E5SB6yZ8wJ",
        "colab_type": "text"
      },
      "source": [
        "Within the box, a vertical line is at the Q2, the median of the data set. Two horizontal lines, called whiskers, extend from the front and back of the box. The front whisker goes from Q1 to the smallest non-outlier in the data set, and the back whisker goes from Q3 to the largest non-outlier."
      ]
    },
    {
      "cell_type": "markdown",
      "metadata": {
        "id": "LZr2zxb-JY-m",
        "colab_type": "text"
      },
      "source": [
        "#### Leaky Features Exploration:"
      ]
    },
    {
      "cell_type": "markdown",
      "metadata": {
        "id": "ZedeIqr6Y_8X",
        "colab_type": "text"
      },
      "source": [
        "Let's merge all the questions from both the datasets (i.e. Training and Testing)"
      ]
    },
    {
      "cell_type": "code",
      "metadata": {
        "id": "zrgSuxmdmvWZ",
        "colab_type": "code",
        "colab": {}
      },
      "source": [
        "all_questions_df = pd.concat([train_df[['question1', 'question2']], \\\n",
        "        test_df[['question1', 'question2']]], \\\n",
        "        axis=0).reset_index(drop='index')"
      ],
      "execution_count": null,
      "outputs": []
    },
    {
      "cell_type": "code",
      "metadata": {
        "id": "UJvfsdbuJ36Y",
        "colab_type": "code",
        "colab": {
          "base_uri": "https://localhost:8080/",
          "height": 310
        },
        "outputId": "dc21e3d4-29a4-4e15-e2d9-54bb8244ef9e"
      },
      "source": [
        "print(train_df.shape)\n",
        "print(test_df.shape)\n",
        "print(all_questions_df.shape)\n",
        "all_questions_df.head()"
      ],
      "execution_count": null,
      "outputs": [
        {
          "output_type": "stream",
          "text": [
            "(404290, 10)\n",
            "(2345796, 3)\n",
            "(2750086, 2)\n"
          ],
          "name": "stdout"
        },
        {
          "output_type": "execute_result",
          "data": {
            "text/html": [
              "<div>\n",
              "<style scoped>\n",
              "    .dataframe tbody tr th:only-of-type {\n",
              "        vertical-align: middle;\n",
              "    }\n",
              "\n",
              "    .dataframe tbody tr th {\n",
              "        vertical-align: top;\n",
              "    }\n",
              "\n",
              "    .dataframe thead th {\n",
              "        text-align: right;\n",
              "    }\n",
              "</style>\n",
              "<table border=\"1\" class=\"dataframe\">\n",
              "  <thead>\n",
              "    <tr style=\"text-align: right;\">\n",
              "      <th></th>\n",
              "      <th>question1</th>\n",
              "      <th>question2</th>\n",
              "    </tr>\n",
              "  </thead>\n",
              "  <tbody>\n",
              "    <tr>\n",
              "      <th>0</th>\n",
              "      <td>What is the step by step guide to invest in share market in india?</td>\n",
              "      <td>What is the step by step guide to invest in share market?</td>\n",
              "    </tr>\n",
              "    <tr>\n",
              "      <th>1</th>\n",
              "      <td>What is the story of Kohinoor (Koh-i-Noor) Diamond?</td>\n",
              "      <td>What would happen if the Indian government stole the Kohinoor (Koh-i-Noor) diamond back?</td>\n",
              "    </tr>\n",
              "    <tr>\n",
              "      <th>2</th>\n",
              "      <td>How can I increase the speed of my internet connection while using a VPN?</td>\n",
              "      <td>How can Internet speed be increased by hacking through DNS?</td>\n",
              "    </tr>\n",
              "    <tr>\n",
              "      <th>3</th>\n",
              "      <td>Why am I mentally very lonely? How can I solve it?</td>\n",
              "      <td>Find the remainder when [math]23^{24}[/math] is divided by 24,23?</td>\n",
              "    </tr>\n",
              "    <tr>\n",
              "      <th>4</th>\n",
              "      <td>Which one dissolve in water quikly sugar, salt, methane and carbon di oxide?</td>\n",
              "      <td>Which fish would survive in salt water?</td>\n",
              "    </tr>\n",
              "  </tbody>\n",
              "</table>\n",
              "</div>"
            ],
            "text/plain": [
              "                                                                      question1  \\\n",
              "0  What is the step by step guide to invest in share market in india?             \n",
              "1  What is the story of Kohinoor (Koh-i-Noor) Diamond?                            \n",
              "2  How can I increase the speed of my internet connection while using a VPN?      \n",
              "3  Why am I mentally very lonely? How can I solve it?                             \n",
              "4  Which one dissolve in water quikly sugar, salt, methane and carbon di oxide?   \n",
              "\n",
              "                                                                                  question2  \n",
              "0  What is the step by step guide to invest in share market?                                 \n",
              "1  What would happen if the Indian government stole the Kohinoor (Koh-i-Noor) diamond back?  \n",
              "2  How can Internet speed be increased by hacking through DNS?                               \n",
              "3  Find the remainder when [math]23^{24}[/math] is divided by 24,23?                         \n",
              "4  Which fish would survive in salt water?                                                   "
            ]
          },
          "metadata": {
            "tags": []
          },
          "execution_count": 31
        }
      ]
    },
    {
      "cell_type": "code",
      "metadata": {
        "id": "ztrqnaUhm39R",
        "colab_type": "code",
        "colab": {
          "base_uri": "https://localhost:8080/",
          "height": 52
        },
        "outputId": "83bc27f2-89a2-4245-c625-56a01c4cc51d"
      },
      "source": [
        "%%time\n",
        "from collections import defaultdict\n",
        "\n",
        "q_dict = defaultdict(set)\n",
        "for i in range(all_questions_df.shape[0]):\n",
        "        q_dict[all_questions_df.question1[i]].add(all_questions_df.question2[i])\n",
        "        q_dict[all_questions_df.question2[i]].add(all_questions_df.question1[i])\n"
      ],
      "execution_count": null,
      "outputs": [
        {
          "output_type": "stream",
          "text": [
            "CPU times: user 4min 27s, sys: 739 ms, total: 4min 28s\n",
            "Wall time: 4min 28s\n"
          ],
          "name": "stdout"
        }
      ]
    },
    {
      "cell_type": "code",
      "metadata": {
        "id": "WsRC2JIEKOdi",
        "colab_type": "code",
        "colab": {}
      },
      "source": [
        "#q_dict"
      ],
      "execution_count": null,
      "outputs": []
    },
    {
      "cell_type": "markdown",
      "metadata": {
        "id": "RUfksYx3audQ",
        "colab_type": "text"
      },
      "source": [
        "Count of each questions in dictionary of questions"
      ]
    },
    {
      "cell_type": "code",
      "metadata": {
        "id": "If7Czx_5m74K",
        "colab_type": "code",
        "colab": {}
      },
      "source": [
        "def q1_freq(row):\n",
        "    return(len(q_dict[row['question1']]))\n",
        "    \n",
        "def q2_freq(row):\n",
        "    return(len(q_dict[row['question2']]))\n",
        "    \n",
        "def q1_q2_intersect(row):\n",
        "    return(len(set(q_dict[row['question1']]).intersection(set(q_dict[row['question2']]))))"
      ],
      "execution_count": null,
      "outputs": []
    },
    {
      "cell_type": "code",
      "metadata": {
        "id": "b5fw4pczLx0z",
        "colab_type": "code",
        "colab": {}
      },
      "source": [
        "train_df['q1_q2_intersect'] = train_df.apply(q1_q2_intersect, axis=1, raw=True)\n",
        "train_df['q1_freq'] = train_df.apply(q1_freq, axis=1, raw=True)\n",
        "train_df['q2_freq'] = train_df.apply(q2_freq, axis=1, raw=True)"
      ],
      "execution_count": null,
      "outputs": []
    },
    {
      "cell_type": "code",
      "metadata": {
        "id": "f8IlBScnLzP3",
        "colab_type": "code",
        "colab": {
          "base_uri": "https://localhost:8080/",
          "height": 817
        },
        "outputId": "30b4695a-d61b-4144-debf-f8b49ab7c6f9"
      },
      "source": [
        "print(train_df.shape)\n",
        "train_df.head()"
      ],
      "execution_count": null,
      "outputs": [
        {
          "output_type": "stream",
          "text": [
            "(404290, 13)\n"
          ],
          "name": "stdout"
        },
        {
          "output_type": "execute_result",
          "data": {
            "text/html": [
              "<div>\n",
              "<style scoped>\n",
              "    .dataframe tbody tr th:only-of-type {\n",
              "        vertical-align: middle;\n",
              "    }\n",
              "\n",
              "    .dataframe tbody tr th {\n",
              "        vertical-align: top;\n",
              "    }\n",
              "\n",
              "    .dataframe thead th {\n",
              "        text-align: right;\n",
              "    }\n",
              "</style>\n",
              "<table border=\"1\" class=\"dataframe\">\n",
              "  <thead>\n",
              "    <tr style=\"text-align: right;\">\n",
              "      <th></th>\n",
              "      <th>id</th>\n",
              "      <th>qid1</th>\n",
              "      <th>qid2</th>\n",
              "      <th>question1</th>\n",
              "      <th>question2</th>\n",
              "      <th>is_duplicate</th>\n",
              "      <th>unigrams_ques1</th>\n",
              "      <th>unigrams_ques2</th>\n",
              "      <th>unigrams_common_count</th>\n",
              "      <th>unigrams_common_ratio</th>\n",
              "      <th>q1_q2_intersect</th>\n",
              "      <th>q1_freq</th>\n",
              "      <th>q2_freq</th>\n",
              "    </tr>\n",
              "  </thead>\n",
              "  <tbody>\n",
              "    <tr>\n",
              "      <th>0</th>\n",
              "      <td>0</td>\n",
              "      <td>1</td>\n",
              "      <td>2</td>\n",
              "      <td>What is the step by step guide to invest in share market in india?</td>\n",
              "      <td>What is the step by step guide to invest in share market?</td>\n",
              "      <td>0</td>\n",
              "      <td>[step, step, guide, invest, share, market, india, ?]</td>\n",
              "      <td>[step, step, guide, invest, share, market, ?]</td>\n",
              "      <td>6</td>\n",
              "      <td>0.857143</td>\n",
              "      <td>0</td>\n",
              "      <td>1</td>\n",
              "      <td>2</td>\n",
              "    </tr>\n",
              "    <tr>\n",
              "      <th>1</th>\n",
              "      <td>1</td>\n",
              "      <td>3</td>\n",
              "      <td>4</td>\n",
              "      <td>What is the story of Kohinoor (Koh-i-Noor) Diamond?</td>\n",
              "      <td>What would happen if the Indian government stole the Kohinoor (Koh-i-Noor) diamond back?</td>\n",
              "      <td>0</td>\n",
              "      <td>[story, kohinoor, (, koh-i-noor, ), diamond, ?]</td>\n",
              "      <td>[would, happen, indian, government, stole, kohinoor, (, koh-i-noor, ), diamond, back, ?]</td>\n",
              "      <td>6</td>\n",
              "      <td>0.461538</td>\n",
              "      <td>0</td>\n",
              "      <td>8</td>\n",
              "      <td>3</td>\n",
              "    </tr>\n",
              "    <tr>\n",
              "      <th>2</th>\n",
              "      <td>2</td>\n",
              "      <td>5</td>\n",
              "      <td>6</td>\n",
              "      <td>How can I increase the speed of my internet connection while using a VPN?</td>\n",
              "      <td>How can Internet speed be increased by hacking through DNS?</td>\n",
              "      <td>0</td>\n",
              "      <td>[increase, speed, internet, connection, using, vpn, ?]</td>\n",
              "      <td>[internet, speed, increased, hacking, dns, ?]</td>\n",
              "      <td>3</td>\n",
              "      <td>0.300000</td>\n",
              "      <td>0</td>\n",
              "      <td>2</td>\n",
              "      <td>1</td>\n",
              "    </tr>\n",
              "    <tr>\n",
              "      <th>3</th>\n",
              "      <td>3</td>\n",
              "      <td>7</td>\n",
              "      <td>8</td>\n",
              "      <td>Why am I mentally very lonely? How can I solve it?</td>\n",
              "      <td>Find the remainder when [math]23^{24}[/math] is divided by 24,23?</td>\n",
              "      <td>0</td>\n",
              "      <td>[mentally, lonely, ?, solve, ?]</td>\n",
              "      <td>[find, remainder, [, math, ], 23^, {, 24, }, [, /math, ], divided, 24,23, ?]</td>\n",
              "      <td>1</td>\n",
              "      <td>0.062500</td>\n",
              "      <td>0</td>\n",
              "      <td>1</td>\n",
              "      <td>1</td>\n",
              "    </tr>\n",
              "    <tr>\n",
              "      <th>4</th>\n",
              "      <td>4</td>\n",
              "      <td>9</td>\n",
              "      <td>10</td>\n",
              "      <td>Which one dissolve in water quikly sugar, salt, methane and carbon di oxide?</td>\n",
              "      <td>Which fish would survive in salt water?</td>\n",
              "      <td>0</td>\n",
              "      <td>[one, dissolve, water, quikly, sugar, ,, salt, ,, methane, carbon, di, oxide, ?]</td>\n",
              "      <td>[fish, would, survive, salt, water, ?]</td>\n",
              "      <td>3</td>\n",
              "      <td>0.200000</td>\n",
              "      <td>0</td>\n",
              "      <td>3</td>\n",
              "      <td>1</td>\n",
              "    </tr>\n",
              "  </tbody>\n",
              "</table>\n",
              "</div>"
            ],
            "text/plain": [
              "   id  qid1  qid2  \\\n",
              "0  0   1     2      \n",
              "1  1   3     4      \n",
              "2  2   5     6      \n",
              "3  3   7     8      \n",
              "4  4   9     10     \n",
              "\n",
              "                                                                      question1  \\\n",
              "0  What is the step by step guide to invest in share market in india?             \n",
              "1  What is the story of Kohinoor (Koh-i-Noor) Diamond?                            \n",
              "2  How can I increase the speed of my internet connection while using a VPN?      \n",
              "3  Why am I mentally very lonely? How can I solve it?                             \n",
              "4  Which one dissolve in water quikly sugar, salt, methane and carbon di oxide?   \n",
              "\n",
              "                                                                                  question2  \\\n",
              "0  What is the step by step guide to invest in share market?                                  \n",
              "1  What would happen if the Indian government stole the Kohinoor (Koh-i-Noor) diamond back?   \n",
              "2  How can Internet speed be increased by hacking through DNS?                                \n",
              "3  Find the remainder when [math]23^{24}[/math] is divided by 24,23?                          \n",
              "4  Which fish would survive in salt water?                                                    \n",
              "\n",
              "   is_duplicate  \\\n",
              "0  0              \n",
              "1  0              \n",
              "2  0              \n",
              "3  0              \n",
              "4  0              \n",
              "\n",
              "                                                                     unigrams_ques1  \\\n",
              "0  [step, step, guide, invest, share, market, india, ?]                               \n",
              "1  [story, kohinoor, (, koh-i-noor, ), diamond, ?]                                    \n",
              "2  [increase, speed, internet, connection, using, vpn, ?]                             \n",
              "3  [mentally, lonely, ?, solve, ?]                                                    \n",
              "4  [one, dissolve, water, quikly, sugar, ,, salt, ,, methane, carbon, di, oxide, ?]   \n",
              "\n",
              "                                                                             unigrams_ques2  \\\n",
              "0  [step, step, guide, invest, share, market, ?]                                              \n",
              "1  [would, happen, indian, government, stole, kohinoor, (, koh-i-noor, ), diamond, back, ?]   \n",
              "2  [internet, speed, increased, hacking, dns, ?]                                              \n",
              "3  [find, remainder, [, math, ], 23^, {, 24, }, [, /math, ], divided, 24,23, ?]               \n",
              "4  [fish, would, survive, salt, water, ?]                                                     \n",
              "\n",
              "   unigrams_common_count  unigrams_common_ratio  q1_q2_intersect  q1_freq  \\\n",
              "0  6                      0.857143               0                1         \n",
              "1  6                      0.461538               0                8         \n",
              "2  3                      0.300000               0                2         \n",
              "3  1                      0.062500               0                1         \n",
              "4  3                      0.200000               0                3         \n",
              "\n",
              "   q2_freq  \n",
              "0  2        \n",
              "1  3        \n",
              "2  1        \n",
              "3  1        \n",
              "4  1        "
            ]
          },
          "metadata": {
            "tags": []
          },
          "execution_count": 36
        }
      ]
    },
    {
      "cell_type": "markdown",
      "metadata": {
        "id": "azX6TCyPnCD3",
        "colab_type": "text"
      },
      "source": [
        "\n",
        "\n",
        "Q1-Q2 neighbor intersection count:\n",
        "\n",
        "Let us first do simple count plots and see the distribution.\n"
      ]
    },
    {
      "cell_type": "code",
      "metadata": {
        "id": "Ejxh3bXmm_gP",
        "colab_type": "code",
        "colab": {
          "base_uri": "https://localhost:8080/",
          "height": 394
        },
        "outputId": "64652e28-4e85-4361-e057-9d0428e5fa77"
      },
      "source": [
        "count_q1_q2_intersect = train_df['q1_q2_intersect'].value_counts()\n",
        "\n",
        "plt.figure(figsize=(12,6))\n",
        "sns.barplot(count_q1_q2_intersect.index, np.log1p(count_q1_q2_intersect.values), alpha=0.8)\n",
        "plt.xlabel('Q1-Q2 neighbor intersection count', fontsize=12)\n",
        "plt.ylabel('Log of Number of Occurrences', fontsize=12)\n",
        "plt.xticks(rotation='vertical')\n",
        "plt.show()"
      ],
      "execution_count": null,
      "outputs": [
        {
          "output_type": "display_data",
          "data": {
            "image/png": "[encoded data removed]",
            "text/plain": [
              "<Figure size 864x432 with 1 Axes>"
            ]
          },
          "metadata": {
            "tags": [],
            "needs_background": "light"
          }
        }
      ]
    },
    {
      "cell_type": "code",
      "metadata": {
        "id": "PfKpVFcGnE50",
        "colab_type": "code",
        "colab": {
          "base_uri": "https://localhost:8080/",
          "height": 503
        },
        "outputId": "e9c531c8-3258-44a4-d8eb-4b4441d45392"
      },
      "source": [
        "grouped_df = train_df.groupby('q1_q2_intersect')['is_duplicate'].aggregate(np.mean).reset_index()\n",
        "plt.figure(figsize=(12,8))\n",
        "sns.pointplot(grouped_df[\"q1_q2_intersect\"].values, grouped_df[\"is_duplicate\"].values, alpha=0.8, color=color[2])\n",
        "plt.ylabel('Mean is_duplicate', fontsize=12)\n",
        "plt.xlabel('Q1-Q2 neighbor intersection count', fontsize=12)\n",
        "plt.xticks(rotation='vertical')\n",
        "plt.show()\n",
        "\n"
      ],
      "execution_count": null,
      "outputs": [
        {
          "output_type": "display_data",
          "data": {
            "image/png": "[encoded data removed]",
            "text/plain": [
              "<Figure size 864x576 with 1 Axes>"
            ]
          },
          "metadata": {
            "tags": [],
            "needs_background": "light"
          }
        }
      ]
    },
    {
      "cell_type": "markdown",
      "metadata": {
        "id": "rhWjR1LdnJc7",
        "colab_type": "text"
      },
      "source": [
        "Wow. This explains why this variable is super predictive.!"
      ]
    },
    {
      "cell_type": "markdown",
      "metadata": {
        "id": "lQdgG54Wp_wC",
        "colab_type": "text"
      },
      "source": [
        "# Feature EDA"
      ]
    },
    {
      "cell_type": "code",
      "metadata": {
        "id": "VoNFo2yXqD25",
        "colab_type": "code",
        "colab": {}
      },
      "source": [
        "train_df = training_df.copy()"
      ],
      "execution_count": null,
      "outputs": []
    },
    {
      "cell_type": "code",
      "metadata": {
        "id": "wgJQjRS6QU9N",
        "colab_type": "code",
        "colab": {
          "base_uri": "https://localhost:8080/",
          "height": 310
        },
        "outputId": "bfd67d5c-88af-4854-f665-a4b019eddfce"
      },
      "source": [
        "print(train_df.shape)\n",
        "train_df.head()"
      ],
      "execution_count": null,
      "outputs": [
        {
          "output_type": "stream",
          "text": [
            "(404290, 6)\n"
          ],
          "name": "stdout"
        },
        {
          "output_type": "execute_result",
          "data": {
            "text/html": [
              "<div>\n",
              "<style scoped>\n",
              "    .dataframe tbody tr th:only-of-type {\n",
              "        vertical-align: middle;\n",
              "    }\n",
              "\n",
              "    .dataframe tbody tr th {\n",
              "        vertical-align: top;\n",
              "    }\n",
              "\n",
              "    .dataframe thead th {\n",
              "        text-align: right;\n",
              "    }\n",
              "</style>\n",
              "<table border=\"1\" class=\"dataframe\">\n",
              "  <thead>\n",
              "    <tr style=\"text-align: right;\">\n",
              "      <th></th>\n",
              "      <th>id</th>\n",
              "      <th>qid1</th>\n",
              "      <th>qid2</th>\n",
              "      <th>question1</th>\n",
              "      <th>question2</th>\n",
              "      <th>is_duplicate</th>\n",
              "    </tr>\n",
              "  </thead>\n",
              "  <tbody>\n",
              "    <tr>\n",
              "      <th>0</th>\n",
              "      <td>0</td>\n",
              "      <td>1</td>\n",
              "      <td>2</td>\n",
              "      <td>What is the step by step guide to invest in share market in india?</td>\n",
              "      <td>What is the step by step guide to invest in share market?</td>\n",
              "      <td>0</td>\n",
              "    </tr>\n",
              "    <tr>\n",
              "      <th>1</th>\n",
              "      <td>1</td>\n",
              "      <td>3</td>\n",
              "      <td>4</td>\n",
              "      <td>What is the story of Kohinoor (Koh-i-Noor) Diamond?</td>\n",
              "      <td>What would happen if the Indian government stole the Kohinoor (Koh-i-Noor) diamond back?</td>\n",
              "      <td>0</td>\n",
              "    </tr>\n",
              "    <tr>\n",
              "      <th>2</th>\n",
              "      <td>2</td>\n",
              "      <td>5</td>\n",
              "      <td>6</td>\n",
              "      <td>How can I increase the speed of my internet connection while using a VPN?</td>\n",
              "      <td>How can Internet speed be increased by hacking through DNS?</td>\n",
              "      <td>0</td>\n",
              "    </tr>\n",
              "    <tr>\n",
              "      <th>3</th>\n",
              "      <td>3</td>\n",
              "      <td>7</td>\n",
              "      <td>8</td>\n",
              "      <td>Why am I mentally very lonely? How can I solve it?</td>\n",
              "      <td>Find the remainder when [math]23^{24}[/math] is divided by 24,23?</td>\n",
              "      <td>0</td>\n",
              "    </tr>\n",
              "    <tr>\n",
              "      <th>4</th>\n",
              "      <td>4</td>\n",
              "      <td>9</td>\n",
              "      <td>10</td>\n",
              "      <td>Which one dissolve in water quikly sugar, salt, methane and carbon di oxide?</td>\n",
              "      <td>Which fish would survive in salt water?</td>\n",
              "      <td>0</td>\n",
              "    </tr>\n",
              "  </tbody>\n",
              "</table>\n",
              "</div>"
            ],
            "text/plain": [
              "   id  qid1  qid2  \\\n",
              "0  0   1     2      \n",
              "1  1   3     4      \n",
              "2  2   5     6      \n",
              "3  3   7     8      \n",
              "4  4   9     10     \n",
              "\n",
              "                                                                      question1  \\\n",
              "0  What is the step by step guide to invest in share market in india?             \n",
              "1  What is the story of Kohinoor (Koh-i-Noor) Diamond?                            \n",
              "2  How can I increase the speed of my internet connection while using a VPN?      \n",
              "3  Why am I mentally very lonely? How can I solve it?                             \n",
              "4  Which one dissolve in water quikly sugar, salt, methane and carbon di oxide?   \n",
              "\n",
              "                                                                                  question2  \\\n",
              "0  What is the step by step guide to invest in share market?                                  \n",
              "1  What would happen if the Indian government stole the Kohinoor (Koh-i-Noor) diamond back?   \n",
              "2  How can Internet speed be increased by hacking through DNS?                                \n",
              "3  Find the remainder when [math]23^{24}[/math] is divided by 24,23?                          \n",
              "4  Which fish would survive in salt water?                                                    \n",
              "\n",
              "   is_duplicate  \n",
              "0  0             \n",
              "1  0             \n",
              "2  0             \n",
              "3  0             \n",
              "4  0             "
            ]
          },
          "metadata": {
            "tags": []
          },
          "execution_count": 40
        }
      ]
    },
    {
      "cell_type": "code",
      "metadata": {
        "id": "hpQ4ljbVqObx",
        "colab_type": "code",
        "colab": {}
      },
      "source": [
        "train_question_1_df, train_question_2_df = train_df[['qid1', 'question1']], train_df[['qid2', 'question2']]\n",
        "train_question_2_df.columns = ['qid1', 'question']\n",
        "train_question_2_df.columns = ['qid2', 'question']"
      ],
      "execution_count": null,
      "outputs": []
    },
    {
      "cell_type": "code",
      "metadata": {
        "id": "UnQK0oU3OfaF",
        "colab_type": "code",
        "colab": {
          "base_uri": "https://localhost:8080/",
          "height": 34
        },
        "outputId": "ec087e8d-31e9-4d8d-e3ba-830fd974059c"
      },
      "source": [
        "# merge the two dfs, there are two nans for question\n",
        "\n",
        "train_question_all_df = pd.concat((train_question_1_df, train_question_2_df), axis=0).fillna(\"\")\n",
        "rows_of_q1 = train_question_all_df.shape[0]/2\n",
        "train_question_all_df.shape"
      ],
      "execution_count": null,
      "outputs": [
        {
          "output_type": "execute_result",
          "data": {
            "text/plain": [
              "(808580, 4)"
            ]
          },
          "metadata": {
            "tags": []
          },
          "execution_count": 42
        }
      ]
    },
    {
      "cell_type": "code",
      "metadata": {
        "id": "q72lC8Cgq3TH",
        "colab_type": "code",
        "colab": {
          "base_uri": "https://localhost:8080/",
          "height": 34
        },
        "outputId": "7b75f4bc-c003-4414-d1bd-64e884d96f03"
      },
      "source": [
        "rows_of_q1 = int(rows_of_q1)\n",
        "rows_of_q1"
      ],
      "execution_count": null,
      "outputs": [
        {
          "output_type": "execute_result",
          "data": {
            "text/plain": [
              "404290"
            ]
          },
          "metadata": {
            "tags": []
          },
          "execution_count": 43
        }
      ]
    },
    {
      "cell_type": "code",
      "metadata": {
        "id": "GSAJ1uKFq6ez",
        "colab_type": "code",
        "colab": {
          "base_uri": "https://localhost:8080/",
          "height": 225
        },
        "outputId": "f3440476-6d17-43b4-dc01-b0e4879adc0a"
      },
      "source": [
        "train_question_all_df[\"question\"][:rows_of_q1]"
      ],
      "execution_count": null,
      "outputs": [
        {
          "output_type": "execute_result",
          "data": {
            "text/plain": [
              "0          \n",
              "1          \n",
              "2          \n",
              "3          \n",
              "4          \n",
              "         ..\n",
              "404285     \n",
              "404286     \n",
              "404287     \n",
              "404288     \n",
              "404289     \n",
              "Name: question, Length: 404290, dtype: object"
            ]
          },
          "metadata": {
            "tags": []
          },
          "execution_count": 44
        }
      ]
    },
    {
      "cell_type": "code",
      "metadata": {
        "id": "fHFnrePsq8yk",
        "colab_type": "code",
        "colab": {
          "base_uri": "https://localhost:8080/",
          "height": 245
        },
        "outputId": "1406a9f2-e456-46f8-fbb4-b18b6505e1da"
      },
      "source": [
        "train_question_all_df[\"question\"][rows_of_q1:]"
      ],
      "execution_count": null,
      "outputs": [
        {
          "output_type": "execute_result",
          "data": {
            "text/plain": [
              "0         What is the step by step guide to invest in share market?                                                                      \n",
              "1         What would happen if the Indian government stole the Kohinoor (Koh-i-Noor) diamond back?                                       \n",
              "2         How can Internet speed be increased by hacking through DNS?                                                                    \n",
              "3         Find the remainder when [math]23^{24}[/math] is divided by 24,23?                                                              \n",
              "4         Which fish would survive in salt water?                                                                                        \n",
              "                           ...                                                                                                           \n",
              "404285    How many keywords are there in PERL Programming Language in the latest version?                                                \n",
              "404286    Is it true that there is life after death?                                                                                     \n",
              "404287    What's this coin?                                                                                                              \n",
              "404288    I am having little hairfall problem but I want to use hair styling product. Which one should I prefer out of gel, wax and clay?\n",
              "404289    What is it like to have sex with your cousin?                                                                                  \n",
              "Name: question, Length: 404290, dtype: object"
            ]
          },
          "metadata": {
            "tags": []
          },
          "execution_count": 45
        }
      ]
    },
    {
      "cell_type": "code",
      "metadata": {
        "id": "otMURaQaq-pj",
        "colab_type": "code",
        "colab": {
          "base_uri": "https://localhost:8080/",
          "height": 52
        },
        "outputId": "3301464a-bbc8-42dd-aedc-37854304bf35"
      },
      "source": [
        "%%time\n",
        "from sklearn.feature_extraction.text import TfidfVectorizer, HashingVectorizer\n",
        "\n",
        "vectorizer = TfidfVectorizer(max_features = 256)"
      ],
      "execution_count": null,
      "outputs": [
        {
          "output_type": "stream",
          "text": [
            "CPU times: user 44 µs, sys: 0 ns, total: 44 µs\n",
            "Wall time: 47.7 µs\n"
          ],
          "name": "stdout"
        }
      ]
    },
    {
      "cell_type": "code",
      "metadata": {
        "id": "Yj7J8-qLPTm7",
        "colab_type": "code",
        "colab": {
          "base_uri": "https://localhost:8080/",
          "height": 139
        },
        "outputId": "81d2b8ab-6f89-4768-a52e-c4281e97f04e"
      },
      "source": [
        "vectorizer"
      ],
      "execution_count": null,
      "outputs": [
        {
          "output_type": "execute_result",
          "data": {
            "text/plain": [
              "TfidfVectorizer(analyzer='word', binary=False, decode_error='strict',\n",
              "                dtype=<class 'numpy.float64'>, encoding='utf-8',\n",
              "                input='content', lowercase=True, max_df=1.0, max_features=256,\n",
              "                min_df=1, ngram_range=(1, 1), norm='l2', preprocessor=None,\n",
              "                smooth_idf=True, stop_words=None, strip_accents=None,\n",
              "                sublinear_tf=False, token_pattern='(?u)\\\\b\\\\w\\\\w+\\\\b',\n",
              "                tokenizer=None, use_idf=True, vocabulary=None)"
            ]
          },
          "metadata": {
            "tags": []
          },
          "execution_count": 47
        }
      ]
    },
    {
      "cell_type": "code",
      "metadata": {
        "id": "iNxxFEoKPWn5",
        "colab_type": "code",
        "colab": {}
      },
      "source": [
        "question_vctors = vectorizer.fit_transform(train_question_all_df['question'].values)"
      ],
      "execution_count": null,
      "outputs": []
    },
    {
      "cell_type": "code",
      "metadata": {
        "id": "5Vhw9E1nPHmj",
        "colab_type": "code",
        "colab": {
          "base_uri": "https://localhost:8080/",
          "height": 52
        },
        "outputId": "cbcc259c-dd80-4ce8-a6de-df1fc69bf341"
      },
      "source": [
        "question_vctors"
      ],
      "execution_count": null,
      "outputs": [
        {
          "output_type": "execute_result",
          "data": {
            "text/plain": [
              "<808580x256 sparse matrix of type '<class 'numpy.float64'>'\n",
              "\twith 2532804 stored elements in Compressed Sparse Row format>"
            ]
          },
          "metadata": {
            "tags": []
          },
          "execution_count": 49
        }
      ]
    },
    {
      "cell_type": "code",
      "metadata": {
        "id": "sWiReSGGrBKG",
        "colab_type": "code",
        "colab": {
          "base_uri": "https://localhost:8080/",
          "height": 54
        },
        "outputId": "217c724d-9a7d-48e0-d572-04bfe913c54b"
      },
      "source": [
        "print(vectorizer.get_feature_names())"
      ],
      "execution_count": null,
      "outputs": [
        {
          "output_type": "stream",
          "text": [
            "['10', '1000', '2016', '500', 'about', 'account', 'after', 'all', 'am', 'an', 'and', 'android', 'any', 'anyone', 'app', 'are', 'as', 'ask', 'at', 'back', 'bad', 'be', 'become', 'been', 'before', 'being', 'best', 'better', 'between', 'black', 'book', 'books', 'business', 'but', 'buy', 'by', 'can', 'car', 'card', 'change', 'china', 'clinton', 'college', 'com', 'companies', 'company', 'compare', 'computer', 'could', 'country', 'data', 'day', 'days', 'did', 'difference', 'different', 'do', 'does', 'doing', 'don', 'donald', 'during', 'earn', 'earth', 'energy', 'engineering', 'english', 'even', 'ever', 'exam', 'examples', 'facebook', 'feel', 'find', 'first', 'for', 'free', 'friend', 'friends', 'from', 'get', 'getting', 'girl', 'give', 'go', 'going', 'good', 'google', 'government', 'had', 'happen', 'has', 'have', 'he', 'help', 'her', 'high', 'hillary', 'him', 'his', 'home', 'how', 'if', 'important', 'improve', 'in', 'increase', 'india', 'indian', 'instagram', 'into', 'iphone', 'is', 'it', 'its', 'job', 'just', 'know', 'language', 'laptop', 'learn', 'learning', 'life', 'like', 'live', 'long', 'lose', 'love', 'made', 'make', 'many', 'math', 'me', 'mean', 'men', 'mobile', 'money', 'more', 'most', 'movie', 'movies', 'much', 'my', 'name', 'need', 'new', 'no', 'not', 'notes', 'now', 'number', 'of', 'old', 'on', 'one', 'online', 'only', 'or', 'other', 'our', 'out', 'over', 'own', 'people', 'person', 'phone', 'possible', 'prepare', 'president', 'programming', 'question', 'questions', 'quora', 'read', 'real', 'really', 'right', 'rs', 'same', 'say', 'school', 'science', 'see', 'sex', 'she', 'should', 'so', 'software', 'some', 'someone', 'start', 'still', 'stop', 'student', 'study', 'system', 'take', 'tell', 'than', 'that', 'the', 'their', 'them', 'then', 'there', 'they', 'thing', 'things', 'think', 'this', 'through', 'time', 'to', 'top', 'true', 'trump', 'two', 'under', 'university', 'up', 'us', 'use', 'used', 'using', 've', 'want', 'war', 'was', 'water', 'way', 'ways', 'we', 'web', 'website', 'weight', 'were', 'what', 'when', 'where', 'which', 'while', 'who', 'why', 'will', 'win', 'with', 'without', 'women', 'word', 'work', 'world', 'would', 'year', 'years', 'you', 'your']\n"
          ],
          "name": "stdout"
        }
      ]
    },
    {
      "cell_type": "code",
      "metadata": {
        "id": "WIcLwC2mrHaT",
        "colab_type": "code",
        "colab": {
          "base_uri": "https://localhost:8080/",
          "height": 52
        },
        "outputId": "b55eb786-3fd4-404b-e74d-4a1bdcf96b3c"
      },
      "source": [
        "diff_encodings = np.abs(question_vctors[:rows_of_q1] - question_vctors[rows_of_q1:])\n",
        "diff_encodings"
      ],
      "execution_count": null,
      "outputs": [
        {
          "output_type": "execute_result",
          "data": {
            "text/plain": [
              "<404290x256 sparse matrix of type '<class 'numpy.float64'>'\n",
              "\twith 2532804 stored elements in Compressed Sparse Row format>"
            ]
          },
          "metadata": {
            "tags": []
          },
          "execution_count": 51
        }
      ]
    },
    {
      "cell_type": "code",
      "metadata": {
        "id": "4MQMB13DrHXI",
        "colab_type": "code",
        "colab": {
          "base_uri": "https://localhost:8080/",
          "height": 243
        },
        "outputId": "0b147167-ceb6-4021-ebb8-708cae6adfa0"
      },
      "source": [
        "diff_encodings.toarray()"
      ],
      "execution_count": null,
      "outputs": [
        {
          "output_type": "execute_result",
          "data": {
            "text/plain": [
              "array([[0.        , 0.        , 0.        , ..., 0.        , 0.        ,\n",
              "        0.        ],\n",
              "       [0.        , 0.        , 0.        , ..., 0.        , 0.        ,\n",
              "        0.        ],\n",
              "       [0.        , 0.        , 0.        , ..., 0.        , 0.        ,\n",
              "        0.        ],\n",
              "       ...,\n",
              "       [0.        , 0.        , 0.        , ..., 0.        , 0.        ,\n",
              "        0.        ],\n",
              "       [0.        , 0.        , 0.        , ..., 0.        , 0.        ,\n",
              "        0.        ],\n",
              "       [0.        , 0.        , 0.        , ..., 0.        , 0.        ,\n",
              "        0.36447782]])"
            ]
          },
          "metadata": {
            "tags": []
          },
          "execution_count": 52
        }
      ]
    },
    {
      "cell_type": "code",
      "metadata": {
        "id": "YV7MU4_TRWYk",
        "colab_type": "code",
        "colab": {}
      },
      "source": [
        "# %%time\n",
        "# from sklearn.manifold import TSNE\n",
        "# tsne = TSNE(\n",
        "#     n_components=3,\n",
        "#     init='random', # pca\n",
        "#     random_state=101,\n",
        "#     method='barnes_hut',\n",
        "#     n_iter=260,\n",
        "#     verbose=2,\n",
        "#     angle=0.5\n",
        "# ).fit_transform(diff_encodings.toarray())"
      ],
      "execution_count": null,
      "outputs": []
    },
    {
      "cell_type": "code",
      "metadata": {
        "id": "aiqvfuHqRWbx",
        "colab_type": "code",
        "colab": {}
      },
      "source": [
        "# %%time\n",
        "# trace1 = go.Scatter3d(\n",
        "#     x=tsne[:,0],\n",
        "#     y=tsne[:,1],\n",
        "#     z=tsne[:,2],\n",
        "#     mode='markers',\n",
        "#     marker=dict(\n",
        "#         sizemode='diameter',\n",
        "#         color = dfs['is_duplicate'].values,\n",
        "#         colorscale = 'Portland',\n",
        "#         colorbar = dict(title = 'duplicate'),\n",
        "#         line=dict(color='rgb(255, 255, 255)'),\n",
        "#         opacity=0.75\n",
        "#     )\n",
        "# )\n",
        "\n",
        "# data=[trace1]\n",
        "# layout=dict(height=800, width=800, title='test')\n",
        "# fig=dict(data=data, layout=layout)\n",
        "# py.iplot(fig, filename='3DBubble')\n"
      ],
      "execution_count": null,
      "outputs": []
    },
    {
      "cell_type": "code",
      "metadata": {
        "id": "TwVCRVHERWey",
        "colab_type": "code",
        "colab": {}
      },
      "source": [
        ""
      ],
      "execution_count": null,
      "outputs": []
    },
    {
      "cell_type": "code",
      "metadata": {
        "id": "it1GP7XfRWjk",
        "colab_type": "code",
        "colab": {}
      },
      "source": [
        ""
      ],
      "execution_count": null,
      "outputs": []
    },
    {
      "cell_type": "code",
      "metadata": {
        "id": "2a7D7gXsRWhd",
        "colab_type": "code",
        "colab": {}
      },
      "source": [
        ""
      ],
      "execution_count": null,
      "outputs": []
    },
    {
      "cell_type": "code",
      "metadata": {
        "id": "SaBPT6JtrHTy",
        "colab_type": "code",
        "colab": {}
      },
      "source": [
        "train_df['q1len'] = train_df['question1'].str.len()\n",
        "train_df['q2len'] = train_df['question2'].str.len()"
      ],
      "execution_count": null,
      "outputs": []
    },
    {
      "cell_type": "code",
      "metadata": {
        "id": "R2NiAY-3rHQq",
        "colab_type": "code",
        "colab": {}
      },
      "source": [
        "train_df['q1_n_words'] = train_df['question1'].apply(lambda row: len(row.split(\" \")))\n",
        "train_df['q2_n_words'] = train_df['question2'].apply(lambda row: len(row.split(\" \")))"
      ],
      "execution_count": null,
      "outputs": []
    },
    {
      "cell_type": "code",
      "metadata": {
        "id": "wQC63tNkrHNZ",
        "colab_type": "code",
        "colab": {}
      },
      "source": [
        "def normalized_word_share(row):\n",
        "    w1 = set(map(lambda word: word.lower().strip(), row['question1'].split(\" \")))\n",
        "    w2 = set(map(lambda word: word.lower().strip(), row['question2'].split(\" \")))    \n",
        "    return 1.0 * len(w1 & w2)/(len(w1) + len(w2))"
      ],
      "execution_count": null,
      "outputs": []
    },
    {
      "cell_type": "code",
      "metadata": {
        "id": "YA6wxsmorHKR",
        "colab_type": "code",
        "colab": {
          "base_uri": "https://localhost:8080/",
          "height": 52
        },
        "outputId": "add1941b-ec02-4759-904d-c1dfb0dee2c9"
      },
      "source": [
        "%%time\n",
        "train_df['word_share'] = train_df.apply(normalized_word_share, axis=1)"
      ],
      "execution_count": null,
      "outputs": [
        {
          "output_type": "stream",
          "text": [
            "CPU times: user 11.7 s, sys: 47.9 ms, total: 11.7 s\n",
            "Wall time: 11.7 s\n"
          ],
          "name": "stdout"
        }
      ]
    },
    {
      "cell_type": "code",
      "metadata": {
        "id": "swx1EJWFrHHA",
        "colab_type": "code",
        "colab": {
          "base_uri": "https://localhost:8080/",
          "height": 449
        },
        "outputId": "0fe211f9-8c41-47ef-89cc-c3634ffd910a"
      },
      "source": [
        "print(train_df.shape)\n",
        "train_df.head()"
      ],
      "execution_count": null,
      "outputs": [
        {
          "output_type": "stream",
          "text": [
            "(404290, 11)\n"
          ],
          "name": "stdout"
        },
        {
          "output_type": "execute_result",
          "data": {
            "text/html": [
              "<div>\n",
              "<style scoped>\n",
              "    .dataframe tbody tr th:only-of-type {\n",
              "        vertical-align: middle;\n",
              "    }\n",
              "\n",
              "    .dataframe tbody tr th {\n",
              "        vertical-align: top;\n",
              "    }\n",
              "\n",
              "    .dataframe thead th {\n",
              "        text-align: right;\n",
              "    }\n",
              "</style>\n",
              "<table border=\"1\" class=\"dataframe\">\n",
              "  <thead>\n",
              "    <tr style=\"text-align: right;\">\n",
              "      <th></th>\n",
              "      <th>id</th>\n",
              "      <th>qid1</th>\n",
              "      <th>qid2</th>\n",
              "      <th>question1</th>\n",
              "      <th>question2</th>\n",
              "      <th>is_duplicate</th>\n",
              "      <th>q1len</th>\n",
              "      <th>q2len</th>\n",
              "      <th>q1_n_words</th>\n",
              "      <th>q2_n_words</th>\n",
              "      <th>word_share</th>\n",
              "    </tr>\n",
              "  </thead>\n",
              "  <tbody>\n",
              "    <tr>\n",
              "      <th>0</th>\n",
              "      <td>0</td>\n",
              "      <td>1</td>\n",
              "      <td>2</td>\n",
              "      <td>What is the step by step guide to invest in share market in india?</td>\n",
              "      <td>What is the step by step guide to invest in share market?</td>\n",
              "      <td>0</td>\n",
              "      <td>66</td>\n",
              "      <td>57</td>\n",
              "      <td>14</td>\n",
              "      <td>12</td>\n",
              "      <td>0.434783</td>\n",
              "    </tr>\n",
              "    <tr>\n",
              "      <th>1</th>\n",
              "      <td>1</td>\n",
              "      <td>3</td>\n",
              "      <td>4</td>\n",
              "      <td>What is the story of Kohinoor (Koh-i-Noor) Diamond?</td>\n",
              "      <td>What would happen if the Indian government stole the Kohinoor (Koh-i-Noor) diamond back?</td>\n",
              "      <td>0</td>\n",
              "      <td>51</td>\n",
              "      <td>88</td>\n",
              "      <td>8</td>\n",
              "      <td>13</td>\n",
              "      <td>0.200000</td>\n",
              "    </tr>\n",
              "    <tr>\n",
              "      <th>2</th>\n",
              "      <td>2</td>\n",
              "      <td>5</td>\n",
              "      <td>6</td>\n",
              "      <td>How can I increase the speed of my internet connection while using a VPN?</td>\n",
              "      <td>How can Internet speed be increased by hacking through DNS?</td>\n",
              "      <td>0</td>\n",
              "      <td>73</td>\n",
              "      <td>59</td>\n",
              "      <td>14</td>\n",
              "      <td>10</td>\n",
              "      <td>0.166667</td>\n",
              "    </tr>\n",
              "    <tr>\n",
              "      <th>3</th>\n",
              "      <td>3</td>\n",
              "      <td>7</td>\n",
              "      <td>8</td>\n",
              "      <td>Why am I mentally very lonely? How can I solve it?</td>\n",
              "      <td>Find the remainder when [math]23^{24}[/math] is divided by 24,23?</td>\n",
              "      <td>0</td>\n",
              "      <td>50</td>\n",
              "      <td>65</td>\n",
              "      <td>11</td>\n",
              "      <td>9</td>\n",
              "      <td>0.000000</td>\n",
              "    </tr>\n",
              "    <tr>\n",
              "      <th>4</th>\n",
              "      <td>4</td>\n",
              "      <td>9</td>\n",
              "      <td>10</td>\n",
              "      <td>Which one dissolve in water quikly sugar, salt, methane and carbon di oxide?</td>\n",
              "      <td>Which fish would survive in salt water?</td>\n",
              "      <td>0</td>\n",
              "      <td>76</td>\n",
              "      <td>39</td>\n",
              "      <td>13</td>\n",
              "      <td>7</td>\n",
              "      <td>0.100000</td>\n",
              "    </tr>\n",
              "  </tbody>\n",
              "</table>\n",
              "</div>"
            ],
            "text/plain": [
              "   id  qid1  qid2  \\\n",
              "0  0   1     2      \n",
              "1  1   3     4      \n",
              "2  2   5     6      \n",
              "3  3   7     8      \n",
              "4  4   9     10     \n",
              "\n",
              "                                                                      question1  \\\n",
              "0  What is the step by step guide to invest in share market in india?             \n",
              "1  What is the story of Kohinoor (Koh-i-Noor) Diamond?                            \n",
              "2  How can I increase the speed of my internet connection while using a VPN?      \n",
              "3  Why am I mentally very lonely? How can I solve it?                             \n",
              "4  Which one dissolve in water quikly sugar, salt, methane and carbon di oxide?   \n",
              "\n",
              "                                                                                  question2  \\\n",
              "0  What is the step by step guide to invest in share market?                                  \n",
              "1  What would happen if the Indian government stole the Kohinoor (Koh-i-Noor) diamond back?   \n",
              "2  How can Internet speed be increased by hacking through DNS?                                \n",
              "3  Find the remainder when [math]23^{24}[/math] is divided by 24,23?                          \n",
              "4  Which fish would survive in salt water?                                                    \n",
              "\n",
              "   is_duplicate  q1len  q2len  q1_n_words  q2_n_words  word_share  \n",
              "0  0             66     57     14          12          0.434783    \n",
              "1  0             51     88     8           13          0.200000    \n",
              "2  0             73     59     14          10          0.166667    \n",
              "3  0             50     65     11          9           0.000000    \n",
              "4  0             76     39     13          7           0.100000    "
            ]
          },
          "metadata": {
            "tags": []
          },
          "execution_count": 59
        }
      ]
    },
    {
      "cell_type": "markdown",
      "metadata": {
        "id": "mb9Tu1taZeOX",
        "colab_type": "text"
      },
      "source": [
        "Plotting graphs for output vs word_share values."
      ]
    },
    {
      "cell_type": "code",
      "metadata": {
        "id": "fpE-zt6WrHDz",
        "colab_type": "code",
        "colab": {
          "base_uri": "https://localhost:8080/",
          "height": 515
        },
        "outputId": "c3717bef-f728-4658-ddc2-096ccc7cf642"
      },
      "source": [
        "plt.figure(figsize=(12, 8))\n",
        "\n",
        "plt.subplot(1,2,1)\n",
        "sns.violinplot(x = 'is_duplicate', y = 'word_share', data = train_df)\n",
        "\n",
        "plt.subplot(1,2,2)\n",
        "sns.distplot(train_df[train_df['is_duplicate'] == 1.0]['word_share'], color = 'green')\n",
        "sns.distplot(train_df[train_df['is_duplicate'] == 0.0]['word_share'], color = 'red')"
      ],
      "execution_count": null,
      "outputs": [
        {
          "output_type": "execute_result",
          "data": {
            "text/plain": [
              "<matplotlib.axes._subplots.AxesSubplot at 0x7f2a985ab908>"
            ]
          },
          "metadata": {
            "tags": []
          },
          "execution_count": 60
        },
        {
          "output_type": "display_data",
          "data": {
            "image/png": "[encoded data removed]",
            "text/plain": [
              "<Figure size 864x576 with 2 Axes>"
            ]
          },
          "metadata": {
            "tags": [],
            "needs_background": "light"
          }
        }
      ]
    },
    {
      "cell_type": "code",
      "metadata": {
        "id": "WMMNIoUgrHAL",
        "colab_type": "code",
        "colab": {
          "base_uri": "https://localhost:8080/",
          "height": 764
        },
        "outputId": "43e63b26-e809-4151-aa59-5fa49abf735e"
      },
      "source": [
        "n = 10000\n",
        "sns.pairplot(train_df[['q1len', 'q2len', 'q1_n_words', 'q2_n_words', 'is_duplicate']][0:n], hue='is_duplicate')"
      ],
      "execution_count": null,
      "outputs": [
        {
          "output_type": "execute_result",
          "data": {
            "text/plain": [
              "<seaborn.axisgrid.PairGrid at 0x7f2a99076b70>"
            ]
          },
          "metadata": {
            "tags": []
          },
          "execution_count": 61
        },
        {
          "output_type": "display_data",
          "data": {
            "image/png": "[encoded data removed]",
            "text/plain": [
              "<Figure size 787.5x720 with 20 Axes>"
            ]
          },
          "metadata": {
            "tags": [],
            "needs_background": "light"
          }
        }
      ]
    },
    {
      "cell_type": "markdown",
      "metadata": {
        "id": "pCkVtHa4MwrK",
        "colab_type": "text"
      },
      "source": [
        "# Model 1 - Logistic Regression"
      ]
    },
    {
      "cell_type": "markdown",
      "metadata": {
        "id": "NhZBiSRNLg0m",
        "colab_type": "text"
      },
      "source": [
        "#### Data Preprocessing"
      ]
    },
    {
      "cell_type": "markdown",
      "metadata": {
        "id": "bgD1PKc3Zwva",
        "colab_type": "text"
      },
      "source": [
        "We will apply MinMaxScalar Estimator which will scale and translate each feature individually such that it is in the given range on the training set, e.g. between zero and one."
      ]
    },
    {
      "cell_type": "code",
      "metadata": {
        "id": "ljNZEYjarG8-",
        "colab_type": "code",
        "colab": {}
      },
      "source": [
        "scaler = MinMaxScaler().fit(train_df[['q1len', 'q2len', 'q1_n_words', 'q2_n_words', 'word_share']])\n",
        "\n",
        "X = scaler.transform(train_df[['q1len', 'q2len', 'q1_n_words', 'q2_n_words', 'word_share']])\n",
        "y = train_df['is_duplicate']"
      ],
      "execution_count": null,
      "outputs": []
    },
    {
      "cell_type": "code",
      "metadata": {
        "id": "5siggGsnEvYt",
        "colab_type": "code",
        "colab": {
          "base_uri": "https://localhost:8080/",
          "height": 139
        },
        "outputId": "8d998810-7cae-47cc-d67d-afeb1715bdf5"
      },
      "source": [
        "X"
      ],
      "execution_count": null,
      "outputs": [
        {
          "output_type": "execute_result",
          "data": {
            "text/plain": [
              "array([[0.105939  , 0.04875962, 0.10483871, 0.04661017, 0.86956522],\n",
              "       [0.08186196, 0.07527802, 0.05645161, 0.05084746, 0.4       ],\n",
              "       [0.11717496, 0.05047049, 0.10483871, 0.03813559, 0.33333333],\n",
              "       ...,\n",
              "       [0.02728732, 0.01454234, 0.02419355, 0.00847458, 0.28571429],\n",
              "       [0.15088283, 0.10863986, 0.12903226, 0.10169492, 0.05      ],\n",
              "       [0.05939005, 0.03849444, 0.05645161, 0.03813559, 0.88888889]])"
            ]
          },
          "metadata": {
            "tags": []
          },
          "execution_count": 63
        }
      ]
    },
    {
      "cell_type": "code",
      "metadata": {
        "id": "p0FNssxnEw_7",
        "colab_type": "code",
        "colab": {
          "base_uri": "https://localhost:8080/",
          "height": 225
        },
        "outputId": "2fb31a09-5f31-463f-f512-32331256d929"
      },
      "source": [
        "y"
      ],
      "execution_count": null,
      "outputs": [
        {
          "output_type": "execute_result",
          "data": {
            "text/plain": [
              "0         0\n",
              "1         0\n",
              "2         0\n",
              "3         0\n",
              "4         0\n",
              "         ..\n",
              "404285    0\n",
              "404286    1\n",
              "404287    0\n",
              "404288    0\n",
              "404289    0\n",
              "Name: is_duplicate, Length: 404290, dtype: int64"
            ]
          },
          "metadata": {
            "tags": []
          },
          "execution_count": 64
        }
      ]
    },
    {
      "cell_type": "markdown",
      "metadata": {
        "id": "aSterJD8LnIB",
        "colab_type": "text"
      },
      "source": [
        "#### Split the data"
      ]
    },
    {
      "cell_type": "code",
      "metadata": {
        "id": "W3mcoz-CEvVq",
        "colab_type": "code",
        "colab": {
          "base_uri": "https://localhost:8080/",
          "height": 34
        },
        "outputId": "fa64854d-05e1-4260-9705-a75066bb76ec"
      },
      "source": [
        "X_train, X_test, y_train, y_test = train_test_split(X, y, test_size=0.33, random_state=42)\n",
        "\n",
        "X_train.shape, X_test.shape, y_train.shape, y_test.shape"
      ],
      "execution_count": null,
      "outputs": [
        {
          "output_type": "execute_result",
          "data": {
            "text/plain": [
              "((270874, 5), (133416, 5), (270874,), (133416,))"
            ]
          },
          "metadata": {
            "tags": []
          },
          "execution_count": 65
        }
      ]
    },
    {
      "cell_type": "markdown",
      "metadata": {
        "id": "6PwzZF4jLzU6",
        "colab_type": "text"
      },
      "source": [
        "#### Define the Model"
      ]
    },
    {
      "cell_type": "code",
      "metadata": {
        "id": "-LjAIzWrrG5o",
        "colab_type": "code",
        "colab": {}
      },
      "source": [
        "clf = LogisticRegression()\n",
        "grid = {\n",
        "    'C': [1e-6, 1e-3, 1e0], # Inverse of regularization strength\n",
        "    'penalty': ['l1', 'l2'] # Used to specify the norm used in the penalization.\n",
        "}\n",
        "\n",
        "cv = GridSearchCV(clf, grid, scoring='neg_log_loss', n_jobs=-1, verbose=1)"
      ],
      "execution_count": null,
      "outputs": []
    },
    {
      "cell_type": "code",
      "metadata": {
        "id": "n5CMAdTeFTYU",
        "colab_type": "code",
        "colab": {
          "base_uri": "https://localhost:8080/",
          "height": 243
        },
        "outputId": "752bc7b6-2f68-48f7-a22a-c0fd3a2d9173"
      },
      "source": [
        "cv"
      ],
      "execution_count": null,
      "outputs": [
        {
          "output_type": "execute_result",
          "data": {
            "text/plain": [
              "GridSearchCV(cv=None, error_score=nan,\n",
              "             estimator=LogisticRegression(C=1.0, class_weight=None, dual=False,\n",
              "                                          fit_intercept=True,\n",
              "                                          intercept_scaling=1, l1_ratio=None,\n",
              "                                          max_iter=100, multi_class='auto',\n",
              "                                          n_jobs=None, penalty='l2',\n",
              "                                          random_state=None, solver='lbfgs',\n",
              "                                          tol=0.0001, verbose=0,\n",
              "                                          warm_start=False),\n",
              "             iid='deprecated', n_jobs=-1,\n",
              "             param_grid={'C': [1e-06, 0.001, 1.0], 'penalty': ['l1', 'l2']},\n",
              "             pre_dispatch='2*n_jobs', refit=True, return_train_score=False,\n",
              "             scoring='neg_log_loss', verbose=1)"
            ]
          },
          "metadata": {
            "tags": []
          },
          "execution_count": 67
        }
      ]
    },
    {
      "cell_type": "code",
      "metadata": {
        "id": "y6WR2F1T3Ghy",
        "colab_type": "code",
        "colab": {}
      },
      "source": [
        ""
      ],
      "execution_count": null,
      "outputs": []
    },
    {
      "cell_type": "markdown",
      "metadata": {
        "id": "dZcWlojU3Gx-",
        "colab_type": "text"
      },
      "source": [
        "The parameters of the estimator used to apply fit method are optimized by cross-validated grid-search over a parameter grid."
      ]
    },
    {
      "cell_type": "markdown",
      "metadata": {
        "id": "vM9rotRuL8Pr",
        "colab_type": "text"
      },
      "source": [
        "#### Train the Model"
      ]
    },
    {
      "cell_type": "code",
      "metadata": {
        "id": "a2ehCAhKFQdL",
        "colab_type": "code",
        "colab": {
          "base_uri": "https://localhost:8080/",
          "height": 330
        },
        "outputId": "974be53d-bcfd-433b-ff14-459034d77e9a"
      },
      "source": [
        "%%time\n",
        "cv.fit(X_train, y_train)"
      ],
      "execution_count": null,
      "outputs": [
        {
          "output_type": "stream",
          "text": [
            "Fitting 5 folds for each of 6 candidates, totalling 30 fits\n"
          ],
          "name": "stdout"
        },
        {
          "output_type": "stream",
          "text": [
            "[Parallel(n_jobs=-1)]: Using backend LokyBackend with 2 concurrent workers.\n",
            "[Parallel(n_jobs=-1)]: Done  30 out of  30 | elapsed:    7.5s finished\n"
          ],
          "name": "stderr"
        },
        {
          "output_type": "stream",
          "text": [
            "CPU times: user 2.1 s, sys: 1.34 s, total: 3.44 s\n",
            "Wall time: 9.26 s\n"
          ],
          "name": "stdout"
        },
        {
          "output_type": "execute_result",
          "data": {
            "text/plain": [
              "GridSearchCV(cv=None, error_score=nan,\n",
              "             estimator=LogisticRegression(C=1.0, class_weight=None, dual=False,\n",
              "                                          fit_intercept=True,\n",
              "                                          intercept_scaling=1, l1_ratio=None,\n",
              "                                          max_iter=100, multi_class='auto',\n",
              "                                          n_jobs=None, penalty='l2',\n",
              "                                          random_state=None, solver='lbfgs',\n",
              "                                          tol=0.0001, verbose=0,\n",
              "                                          warm_start=False),\n",
              "             iid='deprecated', n_jobs=-1,\n",
              "             param_grid={'C': [1e-06, 0.001, 1.0], 'penalty': ['l1', 'l2']},\n",
              "             pre_dispatch='2*n_jobs', refit=True, return_train_score=False,\n",
              "             scoring='neg_log_loss', verbose=1)"
            ]
          },
          "metadata": {
            "tags": []
          },
          "execution_count": 68
        }
      ]
    },
    {
      "cell_type": "code",
      "metadata": {
        "id": "5Hyb7yIZrG2b",
        "colab_type": "code",
        "colab": {
          "base_uri": "https://localhost:8080/",
          "height": 121
        },
        "outputId": "eeb79c9d-1dff-415c-e3ee-485c24294b3b"
      },
      "source": [
        "for i in range(1, len(cv.cv_results_['params'])+1):\n",
        "    rank = cv.cv_results_['rank_test_score'][i-1]\n",
        "    s = cv.cv_results_['mean_test_score'][i-1]\n",
        "    sd = cv.cv_results_['std_test_score'][i-1]\n",
        "    params = cv.cv_results_['params'][i-1]\n",
        "    print(\"{0}. Mean validation neg log loss: {1:.3f} (std: {2:.3f}) - {3}\".format(\n",
        "        rank,\n",
        "        s,\n",
        "        sd,\n",
        "        params\n",
        "    ))"
      ],
      "execution_count": null,
      "outputs": [
        {
          "output_type": "stream",
          "text": [
            "4. Mean validation neg log loss: nan (std: nan) - {'C': 1e-06, 'penalty': 'l1'}\n",
            "3. Mean validation neg log loss: -0.658 (std: 0.000) - {'C': 1e-06, 'penalty': 'l2'}\n",
            "5. Mean validation neg log loss: nan (std: nan) - {'C': 0.001, 'penalty': 'l1'}\n",
            "2. Mean validation neg log loss: -0.582 (std: 0.001) - {'C': 0.001, 'penalty': 'l2'}\n",
            "6. Mean validation neg log loss: nan (std: nan) - {'C': 1.0, 'penalty': 'l1'}\n",
            "1. Mean validation neg log loss: -0.568 (std: 0.002) - {'C': 1.0, 'penalty': 'l2'}\n"
          ],
          "name": "stdout"
        }
      ]
    },
    {
      "cell_type": "code",
      "metadata": {
        "id": "PCWFBdc8rGzN",
        "colab_type": "code",
        "colab": {
          "base_uri": "https://localhost:8080/",
          "height": 52
        },
        "outputId": "6093772f-0f3b-4348-c0ce-cf2959340a46"
      },
      "source": [
        "print(cv.best_params_)\n",
        "print(cv.best_estimator_.coef_)"
      ],
      "execution_count": null,
      "outputs": [
        {
          "output_type": "stream",
          "text": [
            "{'C': 1.0, 'penalty': 'l2'}\n",
            "[[-10.24805964  -0.91757482   6.77261556  -7.16409458   3.29918187]]\n"
          ],
          "name": "stdout"
        }
      ]
    },
    {
      "cell_type": "markdown",
      "metadata": {
        "id": "1pmet5US3TY1",
        "colab_type": "text"
      },
      "source": [
        "For our Logistic Regression model, the best parameters for C is 1.0 and penalty is 'l2'.\n",
        "Let's compare these parameters with other possibilites by drawing the Area under Curve graph."
      ]
    },
    {
      "cell_type": "code",
      "metadata": {
        "id": "6umyHT0srGwO",
        "colab_type": "code",
        "colab": {
          "base_uri": "https://localhost:8080/",
          "height": 582
        },
        "outputId": "1adc37d1-76c3-4109-cb28-aa0b39ce5deb"
      },
      "source": [
        "colors = ['r', 'g', 'b', 'y', 'k', 'c', 'm', 'brown', 'r']\n",
        "lw = 1\n",
        "Cs = [1e-6, 1e-4, 1e0]\n",
        "\n",
        "plt.figure(figsize=(12,8))\n",
        "plt.xlabel('False Positive Rate')\n",
        "plt.ylabel('True Positive Rate')\n",
        "plt.title('ROC Curve for different classifiers')\n",
        "\n",
        "plt.plot([0, 1], [0, 1], color='navy', lw=lw, linestyle='--')\n",
        "\n",
        "labels = []\n",
        "for idx, C in enumerate(Cs):\n",
        "    clf = LogisticRegression(C = C)\n",
        "    clf.fit(X_train, y_train)\n",
        "    print(\"C: {}, parameters {} and intercept {}\".format(C, clf.coef_, clf.intercept_))\n",
        "    fpr, tpr, _ = roc_curve(y_test, clf.predict_proba(X_test)[:,1])\n",
        "    roc_auc = auc(fpr, tpr)\n",
        "    plt.plot(fpr, tpr, lw=lw, color=colors[idx])\n",
        "    labels.append(\"C: {}, AUC = {}\".format(C, np.round(roc_auc, 4)))\n",
        "\n",
        "plt.legend(['random AUC = 0.5'] + labels)"
      ],
      "execution_count": null,
      "outputs": [
        {
          "output_type": "stream",
          "text": [
            "C: 1e-06, parameters [[-0.0010675  -0.00061358 -0.00087867 -0.00056285  0.01291762]] and intercept [-0.54411749]\n",
            "C: 0.0001, parameters [[-0.09281632 -0.05367061 -0.0756433  -0.04894879  0.91608226]] and intercept [-0.93486061]\n",
            "C: 1.0, parameters [[-10.24805964  -0.91757482   6.77261556  -7.16409458   3.29918187]] and intercept [-1.34040782]\n"
          ],
          "name": "stdout"
        },
        {
          "output_type": "execute_result",
          "data": {
            "text/plain": [
              "<matplotlib.legend.Legend at 0x7f2a997df978>"
            ]
          },
          "metadata": {
            "tags": []
          },
          "execution_count": 71
        },
        {
          "output_type": "display_data",
          "data": {
            "image/png": "[encoded data removed]",
            "text/plain": [
              "<Figure size 864x576 with 1 Axes>"
            ]
          },
          "metadata": {
            "tags": [],
            "needs_background": "light"
          }
        }
      ]
    },
    {
      "cell_type": "code",
      "metadata": {
        "id": "Z8OdHJwnrGs6",
        "colab_type": "code",
        "colab": {
          "base_uri": "https://localhost:8080/",
          "height": 530
        },
        "outputId": "2b9c0f5a-1fac-4288-e024-c74e585efd65"
      },
      "source": [
        "pr, re, _ = precision_recall_curve(y_test, cv.best_estimator_.predict_proba(X_test)[:,1])\n",
        "plt.figure(figsize=(12,8))\n",
        "plt.plot(re, pr)\n",
        "plt.title('PR Curve (AUC {})'.format(auc(re, pr)))\n",
        "plt.xlabel('Recall')\n",
        "plt.ylabel('Precision')"
      ],
      "execution_count": null,
      "outputs": [
        {
          "output_type": "execute_result",
          "data": {
            "text/plain": [
              "Text(0, 0.5, 'Precision')"
            ]
          },
          "metadata": {
            "tags": []
          },
          "execution_count": 72
        },
        {
          "output_type": "display_data",
          "data": {
            "image/png": "[encoded data removed]",
            "text/plain": [
              "<Figure size 864x576 with 1 Axes>"
            ]
          },
          "metadata": {
            "tags": [],
            "needs_background": "light"
          }
        }
      ]
    },
    {
      "cell_type": "markdown",
      "metadata": {
        "id": "d4p-YZf-L5Tx",
        "colab_type": "text"
      },
      "source": [
        "#### Test the Model"
      ]
    },
    {
      "cell_type": "code",
      "metadata": {
        "id": "-5xX63pTrGpf",
        "colab_type": "code",
        "colab": {
          "base_uri": "https://localhost:8080/",
          "height": 258
        },
        "outputId": "296bfcbd-3c1c-4b47-e6a4-3c321529b06e"
      },
      "source": [
        "test_df = testing_df.copy()\n",
        "\n",
        "test_df['q1len'] = test_df['question1'].str.len()\n",
        "test_df['q2len'] = test_df['question2'].str.len()\n",
        "\n",
        "test_df['q1_n_words'] = test_df['question1'].apply(lambda row: len(row.split(\" \")))\n",
        "test_df['q2_n_words'] = test_df['question2'].apply(lambda row: len(row.split(\" \")))\n",
        "\n",
        "test_df['word_share'] = test_df.apply(normalized_word_share, axis=1)\n",
        "\n",
        "test_df.head()"
      ],
      "execution_count": null,
      "outputs": [
        {
          "output_type": "execute_result",
          "data": {
            "text/html": [
              "<div>\n",
              "<style scoped>\n",
              "    .dataframe tbody tr th:only-of-type {\n",
              "        vertical-align: middle;\n",
              "    }\n",
              "\n",
              "    .dataframe tbody tr th {\n",
              "        vertical-align: top;\n",
              "    }\n",
              "\n",
              "    .dataframe thead th {\n",
              "        text-align: right;\n",
              "    }\n",
              "</style>\n",
              "<table border=\"1\" class=\"dataframe\">\n",
              "  <thead>\n",
              "    <tr style=\"text-align: right;\">\n",
              "      <th></th>\n",
              "      <th>test_id</th>\n",
              "      <th>question1</th>\n",
              "      <th>question2</th>\n",
              "      <th>q1len</th>\n",
              "      <th>q2len</th>\n",
              "      <th>q1_n_words</th>\n",
              "      <th>q2_n_words</th>\n",
              "      <th>word_share</th>\n",
              "    </tr>\n",
              "  </thead>\n",
              "  <tbody>\n",
              "    <tr>\n",
              "      <th>0</th>\n",
              "      <td>0</td>\n",
              "      <td>How does the Surface Pro himself 4 compare with iPad Pro?</td>\n",
              "      <td>Why did Microsoft choose core m3 and not core i3 home Surface Pro 4?</td>\n",
              "      <td>57</td>\n",
              "      <td>68</td>\n",
              "      <td>11</td>\n",
              "      <td>14</td>\n",
              "      <td>0.083333</td>\n",
              "    </tr>\n",
              "    <tr>\n",
              "      <th>1</th>\n",
              "      <td>1</td>\n",
              "      <td>Should I have a hair transplant at age 24? How much would it cost?</td>\n",
              "      <td>How much cost does hair transplant require?</td>\n",
              "      <td>66</td>\n",
              "      <td>43</td>\n",
              "      <td>14</td>\n",
              "      <td>7</td>\n",
              "      <td>0.190476</td>\n",
              "    </tr>\n",
              "    <tr>\n",
              "      <th>2</th>\n",
              "      <td>2</td>\n",
              "      <td>What but is the best way to send money from China to the US?</td>\n",
              "      <td>What you send money to China?</td>\n",
              "      <td>60</td>\n",
              "      <td>29</td>\n",
              "      <td>14</td>\n",
              "      <td>6</td>\n",
              "      <td>0.222222</td>\n",
              "    </tr>\n",
              "    <tr>\n",
              "      <th>3</th>\n",
              "      <td>3</td>\n",
              "      <td>Which food not emulsifiers?</td>\n",
              "      <td>What foods fibre?</td>\n",
              "      <td>27</td>\n",
              "      <td>17</td>\n",
              "      <td>4</td>\n",
              "      <td>3</td>\n",
              "      <td>0.000000</td>\n",
              "    </tr>\n",
              "    <tr>\n",
              "      <th>4</th>\n",
              "      <td>4</td>\n",
              "      <td>How \"aberystwyth\" start reading?</td>\n",
              "      <td>How their can I start reading?</td>\n",
              "      <td>32</td>\n",
              "      <td>30</td>\n",
              "      <td>4</td>\n",
              "      <td>6</td>\n",
              "      <td>0.300000</td>\n",
              "    </tr>\n",
              "  </tbody>\n",
              "</table>\n",
              "</div>"
            ],
            "text/plain": [
              "   test_id  \\\n",
              "0  0         \n",
              "1  1         \n",
              "2  2         \n",
              "3  3         \n",
              "4  4         \n",
              "\n",
              "                                                            question1  \\\n",
              "0  How does the Surface Pro himself 4 compare with iPad Pro?            \n",
              "1  Should I have a hair transplant at age 24? How much would it cost?   \n",
              "2  What but is the best way to send money from China to the US?         \n",
              "3  Which food not emulsifiers?                                          \n",
              "4  How \"aberystwyth\" start reading?                                     \n",
              "\n",
              "                                                              question2  \\\n",
              "0  Why did Microsoft choose core m3 and not core i3 home Surface Pro 4?   \n",
              "1  How much cost does hair transplant require?                            \n",
              "2  What you send money to China?                                          \n",
              "3  What foods fibre?                                                      \n",
              "4  How their can I start reading?                                         \n",
              "\n",
              "   q1len  q2len  q1_n_words  q2_n_words  word_share  \n",
              "0  57     68     11          14          0.083333    \n",
              "1  66     43     14          7           0.190476    \n",
              "2  60     29     14          6           0.222222    \n",
              "3  27     17     4           3           0.000000    \n",
              "4  32     30     4           6           0.300000    "
            ]
          },
          "metadata": {
            "tags": []
          },
          "execution_count": 73
        }
      ]
    },
    {
      "cell_type": "code",
      "metadata": {
        "id": "IkPsop9grGmM",
        "colab_type": "code",
        "colab": {}
      },
      "source": [
        "retrained = cv.best_estimator_.fit(X, y)\n",
        "\n"
      ],
      "execution_count": null,
      "outputs": []
    },
    {
      "cell_type": "code",
      "metadata": {
        "id": "SmeHq5vNF1Zy",
        "colab_type": "code",
        "colab": {
          "base_uri": "https://localhost:8080/",
          "height": 104
        },
        "outputId": "74dc76cf-7703-432a-d601-2782286e1230"
      },
      "source": [
        "retrained"
      ],
      "execution_count": null,
      "outputs": [
        {
          "output_type": "execute_result",
          "data": {
            "text/plain": [
              "LogisticRegression(C=1.0, class_weight=None, dual=False, fit_intercept=True,\n",
              "                   intercept_scaling=1, l1_ratio=None, max_iter=100,\n",
              "                   multi_class='auto', n_jobs=None, penalty='l2',\n",
              "                   random_state=None, solver='lbfgs', tol=0.0001, verbose=0,\n",
              "                   warm_start=False)"
            ]
          },
          "metadata": {
            "tags": []
          },
          "execution_count": 75
        }
      ]
    },
    {
      "cell_type": "code",
      "metadata": {
        "id": "9Ild4xQeF1ev",
        "colab_type": "code",
        "colab": {}
      },
      "source": [
        "X_submission = scaler.transform(test_df[['q1len', 'q2len', 'q1_n_words', 'q2_n_words', 'word_share']])\n",
        "\n",
        "y_submission = retrained.predict_proba(X_submission)[:,1]\n",
        "\n"
      ],
      "execution_count": null,
      "outputs": []
    },
    {
      "cell_type": "code",
      "metadata": {
        "id": "rGZpcPVcF1iV",
        "colab_type": "code",
        "colab": {
          "base_uri": "https://localhost:8080/",
          "height": 139
        },
        "outputId": "9617e4bf-99c6-421a-ad56-0097fc725a84"
      },
      "source": [
        "X_submission"
      ],
      "execution_count": null,
      "outputs": [
        {
          "output_type": "execute_result",
          "data": {
            "text/plain": [
              "array([[0.09149278, 0.05816938, 0.08064516, 0.05508475, 0.16666667],\n",
              "       [0.105939  , 0.03678358, 0.10483871, 0.02542373, 0.38095238],\n",
              "       [0.09630819, 0.02480753, 0.10483871, 0.02118644, 0.44444444],\n",
              "       ...,\n",
              "       [0.10433387, 0.04191617, 0.06451613, 0.02966102, 0.        ],\n",
              "       [0.19101124, 0.1094953 , 0.15322581, 0.08050847, 0.85      ],\n",
              "       [0.09309791, 0.03849444, 0.05645161, 0.03389831, 0.23529412]])"
            ]
          },
          "metadata": {
            "tags": []
          },
          "execution_count": 77
        }
      ]
    },
    {
      "cell_type": "code",
      "metadata": {
        "id": "nkYc4IpyF1kg",
        "colab_type": "code",
        "colab": {
          "base_uri": "https://localhost:8080/",
          "height": 52
        },
        "outputId": "d43dca47-44d9-4441-cf44-d84629481ffb"
      },
      "source": [
        "y_submission"
      ],
      "execution_count": null,
      "outputs": [
        {
          "output_type": "execute_result",
          "data": {
            "text/plain": [
              "array([0.16464078, 0.34116492, 0.42394408, ..., 0.09654966, 0.46442325,\n",
              "       0.19274188])"
            ]
          },
          "metadata": {
            "tags": []
          },
          "execution_count": 78
        }
      ]
    },
    {
      "cell_type": "code",
      "metadata": {
        "id": "0fqH98k5F1c8",
        "colab_type": "code",
        "colab": {
          "base_uri": "https://localhost:8080/",
          "height": 206
        },
        "outputId": "2dcebbd1-c55a-41ab-ec47-41945b2cd5e5"
      },
      "source": [
        "submission = pd.DataFrame({'test_id': test_df['test_id'], 'is_duplicate': y_submission})\n",
        "submission.head()"
      ],
      "execution_count": null,
      "outputs": [
        {
          "output_type": "execute_result",
          "data": {
            "text/html": [
              "<div>\n",
              "<style scoped>\n",
              "    .dataframe tbody tr th:only-of-type {\n",
              "        vertical-align: middle;\n",
              "    }\n",
              "\n",
              "    .dataframe tbody tr th {\n",
              "        vertical-align: top;\n",
              "    }\n",
              "\n",
              "    .dataframe thead th {\n",
              "        text-align: right;\n",
              "    }\n",
              "</style>\n",
              "<table border=\"1\" class=\"dataframe\">\n",
              "  <thead>\n",
              "    <tr style=\"text-align: right;\">\n",
              "      <th></th>\n",
              "      <th>test_id</th>\n",
              "      <th>is_duplicate</th>\n",
              "    </tr>\n",
              "  </thead>\n",
              "  <tbody>\n",
              "    <tr>\n",
              "      <th>0</th>\n",
              "      <td>0</td>\n",
              "      <td>0.164641</td>\n",
              "    </tr>\n",
              "    <tr>\n",
              "      <th>1</th>\n",
              "      <td>1</td>\n",
              "      <td>0.341165</td>\n",
              "    </tr>\n",
              "    <tr>\n",
              "      <th>2</th>\n",
              "      <td>2</td>\n",
              "      <td>0.423944</td>\n",
              "    </tr>\n",
              "    <tr>\n",
              "      <th>3</th>\n",
              "      <td>3</td>\n",
              "      <td>0.155511</td>\n",
              "    </tr>\n",
              "    <tr>\n",
              "      <th>4</th>\n",
              "      <td>4</td>\n",
              "      <td>0.521925</td>\n",
              "    </tr>\n",
              "  </tbody>\n",
              "</table>\n",
              "</div>"
            ],
            "text/plain": [
              "   test_id  is_duplicate\n",
              "0  0        0.164641    \n",
              "1  1        0.341165    \n",
              "2  2        0.423944    \n",
              "3  3        0.155511    \n",
              "4  4        0.521925    "
            ]
          },
          "metadata": {
            "tags": []
          },
          "execution_count": 79
        }
      ]
    },
    {
      "cell_type": "code",
      "metadata": {
        "id": "RQj0Ntq9rGiw",
        "colab_type": "code",
        "colab": {
          "base_uri": "https://localhost:8080/",
          "height": 299
        },
        "outputId": "aa014dee-77f9-4c40-df26-d0d56ea53ae0"
      },
      "source": [
        "sns.distplot(submission.is_duplicate[0:2000])"
      ],
      "execution_count": null,
      "outputs": [
        {
          "output_type": "execute_result",
          "data": {
            "text/plain": [
              "<matplotlib.axes._subplots.AxesSubplot at 0x7f2a99851da0>"
            ]
          },
          "metadata": {
            "tags": []
          },
          "execution_count": 80
        },
        {
          "output_type": "display_data",
          "data": {
            "image/png": "[encoded data removed]",
            "text/plain": [
              "<Figure size 432x288 with 1 Axes>"
            ]
          },
          "metadata": {
            "tags": [],
            "needs_background": "light"
          }
        }
      ]
    },
    {
      "cell_type": "code",
      "metadata": {
        "id": "lwjplQ6DrGfu",
        "colab_type": "code",
        "colab": {}
      },
      "source": [
        ""
      ],
      "execution_count": null,
      "outputs": []
    },
    {
      "cell_type": "markdown",
      "metadata": {
        "id": "m6GYbMScdLue",
        "colab_type": "text"
      },
      "source": [
        "# Model 2 - LSTM (Neural Network)"
      ]
    },
    {
      "cell_type": "markdown",
      "metadata": {
        "id": "oP_vBIRgehNF",
        "colab_type": "text"
      },
      "source": [
        "#### Data Preprocessing"
      ]
    },
    {
      "cell_type": "code",
      "metadata": {
        "id": "rf-TlqWkrGML",
        "colab_type": "code",
        "colab": {
          "base_uri": "https://localhost:8080/",
          "height": 124
        },
        "outputId": "a69ed438-9847-4b4b-8182-e25fa72cacd2"
      },
      "source": [
        "word2vec = KeyedVectors.load_word2vec_format(embedding_file_path, binary = True)\n",
        "print('Found %s word vectors of word2vec' % len(word2vec.vocab))"
      ],
      "execution_count": null,
      "outputs": [
        {
          "output_type": "stream",
          "text": [
            "/usr/local/lib/python3.6/dist-packages/smart_open/smart_open_lib.py:254: UserWarning:\n",
            "\n",
            "This function is deprecated, use smart_open.open instead. See the migration notes for details: https://github.com/RaRe-Technologies/smart_open/blob/master/README.rst#migrating-to-the-new-open-function\n",
            "\n"
          ],
          "name": "stderr"
        },
        {
          "output_type": "stream",
          "text": [
            "Found 3000000 word vectors of word2vec\n"
          ],
          "name": "stdout"
        }
      ]
    },
    {
      "cell_type": "code",
      "metadata": {
        "id": "7L_UaBtYdKMn",
        "colab_type": "code",
        "colab": {}
      },
      "source": [
        "def text_to_wordlist(text, remove_stopwords=False, stem_words=False):\n",
        "    # Clean the text, with the option to remove stopwords and to stem words.\n",
        "    \n",
        "    # Convert words to lower case and split them\n",
        "    text = text.lower().split()\n",
        "\n",
        "    # Optionally, remove stop words\n",
        "    if remove_stopwords:\n",
        "        stops = set(stopwords.words(\"english\"))\n",
        "        text = [w for w in text if not w in stops]\n",
        "    \n",
        "    text = \" \".join(text)\n",
        "\n",
        "    # Clean the text\n",
        "    text = re.sub(r\"[^A-Za-z0-9^,!.\\/'+-=]\", \" \", text)\n",
        "    text = re.sub(r\"what's\", \"what is \", text)\n",
        "    text = re.sub(r\"\\'s\", \" \", text)\n",
        "    text = re.sub(r\"\\'ve\", \" have \", text)\n",
        "    text = re.sub(r\"can't\", \"cannot \", text)\n",
        "    text = re.sub(r\"n't\", \" not \", text)\n",
        "    text = re.sub(r\"i'm\", \"i am \", text)\n",
        "    text = re.sub(r\"\\'re\", \" are \", text)\n",
        "    text = re.sub(r\"\\'d\", \" would \", text)\n",
        "    text = re.sub(r\"\\'ll\", \" will \", text)\n",
        "    text = re.sub(r\",\", \" \", text)\n",
        "    text = re.sub(r\"\\.\", \" \", text)\n",
        "    text = re.sub(r\"!\", \" ! \", text)\n",
        "    text = re.sub(r\"\\/\", \" \", text)\n",
        "    text = re.sub(r\"\\^\", \" ^ \", text)\n",
        "    text = re.sub(r\"\\+\", \" + \", text)\n",
        "    text = re.sub(r\"\\-\", \" - \", text)\n",
        "    text = re.sub(r\"\\=\", \" = \", text)\n",
        "    text = re.sub(r\"'\", \" \", text)\n",
        "    text = re.sub(r\"(\\d+)(k)\", r\"\\g<1>000\", text)\n",
        "    text = re.sub(r\":\", \" : \", text)\n",
        "    text = re.sub(r\" e g \", \" eg \", text)\n",
        "    text = re.sub(r\" b g \", \" bg \", text)\n",
        "    text = re.sub(r\" u s \", \" american \", text)\n",
        "    text = re.sub(r\"\\0s\", \"0\", text)\n",
        "    text = re.sub(r\" 9 11 \", \"911\", text)\n",
        "    text = re.sub(r\"e - mail\", \"email\", text)\n",
        "    text = re.sub(r\"j k\", \"jk\", text)\n",
        "    text = re.sub(r\"\\s{2,}\", \" \", text)\n",
        "    \n",
        "    # Optionally, shorten words to their stems\n",
        "    if stem_words:\n",
        "        text = text.split()\n",
        "        stemmer = SnowballStemmer('english')\n",
        "        stemmed_words = [stemmer.stem(word) for word in text]\n",
        "        text = \" \".join(stemmed_words)\n",
        "    \n",
        "    # Return a list of words\n",
        "    return(text)"
      ],
      "execution_count": null,
      "outputs": []
    },
    {
      "cell_type": "markdown",
      "metadata": {
        "id": "j4z1kHCKdz9c",
        "colab_type": "text"
      },
      "source": [
        "Convert word text to lists in Training dataset\n"
      ]
    },
    {
      "cell_type": "code",
      "metadata": {
        "id": "-JD2E5Jqdxrs",
        "colab_type": "code",
        "colab": {
          "base_uri": "https://localhost:8080/",
          "height": 69
        },
        "outputId": "7210912c-16ff-4795-aff3-0abc0821677d"
      },
      "source": [
        "%%time\n",
        "\n",
        "train_data_file = training_file_path\n",
        "train_texts_1 = [] \n",
        "train_texts_2 = []\n",
        "labels = []\n",
        "with codecs.open(train_data_file, encoding='utf-8') as f:\n",
        "    reader = csv.reader(f, delimiter=',')\n",
        "    header = next(reader)\n",
        "\n",
        "    for values in reader:\n",
        "        #print(values)\n",
        "        train_texts_1.append(text_to_wordlist(values[3]))\n",
        "        train_texts_2.append(text_to_wordlist(values[4]))\n",
        "        labels.append(int(values[5]))\n",
        "print('Found %s texts in train.csv' % len(train_texts_1))"
      ],
      "execution_count": null,
      "outputs": [
        {
          "output_type": "stream",
          "text": [
            "Found 404290 texts in train.csv\n",
            "CPU times: user 25.6 s, sys: 100 ms, total: 25.7 s\n",
            "Wall time: 25.7 s\n"
          ],
          "name": "stdout"
        }
      ]
    },
    {
      "cell_type": "code",
      "metadata": {
        "id": "diYd9nhfd349",
        "colab_type": "code",
        "colab": {}
      },
      "source": [
        "# train_texts_1\n",
        "\n",
        "# ['what is the step by step guide to invest in share market in india ',\n",
        "#  'what is the story of kohinoor koh - i - noor diamond ',\n",
        "#  'how can i increase the speed of my internet connection while using a vpn ', and many more]"
      ],
      "execution_count": null,
      "outputs": []
    },
    {
      "cell_type": "code",
      "metadata": {
        "id": "iW-_vO0rd4He",
        "colab_type": "code",
        "colab": {}
      },
      "source": [
        "# train_texts_2\n",
        "\n",
        "# ['what is the step by step guide to invest in share market ',\n",
        "#  'what would happen if the indian government stole the kohinoor koh - i - noor diamond back ',\n",
        "#  'how can internet speed be increased by hacking through dns ', ... and many more]"
      ],
      "execution_count": null,
      "outputs": []
    },
    {
      "cell_type": "markdown",
      "metadata": {
        "id": "CrqMFgcleHoI",
        "colab_type": "text"
      },
      "source": [
        "Convert word text to lists of Testing set."
      ]
    },
    {
      "cell_type": "code",
      "metadata": {
        "id": "Ob5lt2SBeE55",
        "colab_type": "code",
        "colab": {
          "base_uri": "https://localhost:8080/",
          "height": 34
        },
        "outputId": "f97f50ad-a51d-41dc-e68f-d6f25f1cf4fa"
      },
      "source": [
        "test_data_file = testing_file_path\n",
        "test_texts_1 = []\n",
        "test_texts_2 = []\n",
        "test_ids = []\n",
        "\n",
        "with codecs.open(test_data_file, encoding='utf-8') as f:\n",
        "    reader = csv.reader(f, delimiter=',')\n",
        "    header = next(reader)\n",
        "    for values in reader:\n",
        "        test_texts_1.append(text_to_wordlist(values[1]))\n",
        "        test_texts_2.append(text_to_wordlist(values[2]))\n",
        "        test_ids.append(values[0])\n",
        "print('Found %s texts in test.csv' % len(test_texts_1))"
      ],
      "execution_count": null,
      "outputs": [
        {
          "output_type": "stream",
          "text": [
            "Found 2345796 texts in test.csv\n"
          ],
          "name": "stdout"
        }
      ]
    },
    {
      "cell_type": "code",
      "metadata": {
        "id": "GtZ1t2tCeJLt",
        "colab_type": "code",
        "colab": {}
      },
      "source": [
        "# test_texts_1\n",
        "\n",
        "# ['how does the surface pro himself 4 compare with ipad pro ',\n",
        "#  'should i have a hair transplant at age 24 how much would it cost ',\n",
        "#  'what but is the best way to send money from china to the us ',\n",
        "#  'which food not emulsifiers ', ... and many more]"
      ],
      "execution_count": null,
      "outputs": []
    },
    {
      "cell_type": "code",
      "metadata": {
        "id": "9Y0Sv0jCeLSk",
        "colab_type": "code",
        "colab": {}
      },
      "source": [
        ""
      ],
      "execution_count": null,
      "outputs": []
    },
    {
      "cell_type": "markdown",
      "metadata": {
        "id": "zSpsDKp5eNeP",
        "colab_type": "text"
      },
      "source": [
        "Tokenizer allows to vectorize a text corpus, by turning each text into either a sequence of integers (each integer being the index of a token in a dictionary) or into a vector where the coefficient for each token could be binary, based on word count, based on tf-idf"
      ]
    },
    {
      "cell_type": "code",
      "metadata": {
        "id": "l0blToZ8eNpg",
        "colab_type": "code",
        "colab": {}
      },
      "source": [
        "tokenizer = Tokenizer(num_words=200000)\n",
        "tokenizer.fit_on_texts(train_texts_1 + train_texts_2 + test_texts_1 + test_texts_2)"
      ],
      "execution_count": null,
      "outputs": []
    },
    {
      "cell_type": "markdown",
      "metadata": {
        "id": "pHGblqHPeRGg",
        "colab_type": "text"
      },
      "source": [
        "Convert Text data to Integers"
      ]
    },
    {
      "cell_type": "code",
      "metadata": {
        "id": "DMeEbXJ4ePLM",
        "colab_type": "code",
        "colab": {}
      },
      "source": [
        "train_sequences_1 = tokenizer.texts_to_sequences(train_texts_1)\n",
        "train_sequences_2 = tokenizer.texts_to_sequences(train_texts_2)"
      ],
      "execution_count": null,
      "outputs": []
    },
    {
      "cell_type": "code",
      "metadata": {
        "id": "pnIP2dy7eTU3",
        "colab_type": "code",
        "colab": {}
      },
      "source": [
        "# train_sequences_1\n",
        "\n",
        "# [[2, 3, 1, 1254, 61, 1254, 2921, 8, 578, 7, 759, 370, 7, 35],\n",
        "#  [2, 3, 1, 532, 10, 16563, 11914, 4, 22978, 4743],\n",
        "#  [5, 13, 4, 293, 1, 423, 10, 18, 334, 1724, 153, 127, 6, 2885],\n",
        "#  [15, 47, 4, 3396, 278, 3289, 5, 13, 4, 682, 17],\n",
        "#  [23, 48, 5750, 7, 204, 55553, 1593, 2208, 10718, 12, 1892, 7839, 5204],\n",
        "#  [2922, ... and many more ]]"
      ],
      "execution_count": null,
      "outputs": []
    },
    {
      "cell_type": "code",
      "metadata": {
        "id": "893yTYu9eUYo",
        "colab_type": "code",
        "colab": {}
      },
      "source": [
        "# train_sequences_2\n",
        "\n",
        "# [[2, 3, 1, 1254, 61, 1254, 2921, 8, 578, 7, 759, 370],\n",
        "#  [2, 45, 217, 24, 1, 87, 316, 12772, 1, 16563, 11914, 4, 22978, 4743, 193],\n",
        "#  [5, 13, 334, 423, 28, 3425, 61, 1778, 220, 8301],\n",
        "#  [82, 1, 4667, 37, 196, 2181, 1363, 196, 3, 2525, 61, 1363, 2181],\n",
        "#  [23, 1574, 45, 1369, 7, 2208, 204], ... and many more]"
      ],
      "execution_count": null,
      "outputs": []
    },
    {
      "cell_type": "code",
      "metadata": {
        "id": "9RBWl1lzeVcs",
        "colab_type": "code",
        "colab": {}
      },
      "source": [
        "test_sequences_1 = tokenizer.texts_to_sequences(test_texts_1)\n",
        "test_sequences_2 = tokenizer.texts_to_sequences(test_texts_2)"
      ],
      "execution_count": null,
      "outputs": []
    },
    {
      "cell_type": "code",
      "metadata": {
        "id": "hm8tXh3reWwZ",
        "colab_type": "code",
        "colab": {
          "base_uri": "https://localhost:8080/"
        },
        "outputId": "811ed978-32c8-414a-daa7-a17f7b195d5c"
      },
      "source": [
        "word_index = tokenizer.word_index\n",
        "print('Found %s unique tokens' % len(word_index))"
      ],
      "execution_count": null,
      "outputs": [
        {
          "output_type": "stream",
          "text": [
            "Found 120499 unique tokens\n"
          ],
          "name": "stdout"
        }
      ]
    },
    {
      "cell_type": "code",
      "metadata": {
        "id": "nV1Uo__YeX70",
        "colab_type": "code",
        "colab": {
          "base_uri": "https://localhost:8080/",
          "height": 69
        },
        "outputId": "1fbcd452-dde9-47b3-fb33-0ee2e74a297d"
      },
      "source": [
        "train_data_1 = pad_sequences(train_sequences_1, maxlen=30)\n",
        "train_data_2 = pad_sequences(train_sequences_2, maxlen=30)\n",
        "labels = np.array(labels)\n",
        "\n",
        "print('Shape of data tensor:', train_data_1.shape)\n",
        "print(labels)\n",
        "print('Shape of label tensor:', labels.shape)\n",
        "\n",
        "test_data_1 = pad_sequences(test_sequences_1, maxlen=30)\n",
        "test_data_2 = pad_sequences(test_sequences_2, maxlen=30)\n",
        "test_ids = np.array(test_ids)"
      ],
      "execution_count": null,
      "outputs": [
        {
          "output_type": "stream",
          "text": [
            "Shape of data tensor: (404290, 30)\n",
            "[0 0 0 ... 0 0 0]\n",
            "Shape of label tensor: (404290,)\n"
          ],
          "name": "stdout"
        }
      ]
    },
    {
      "cell_type": "code",
      "metadata": {
        "id": "8Nb3KhEKeZCi",
        "colab_type": "code",
        "colab": {
          "base_uri": "https://localhost:8080/"
        },
        "outputId": "358d7e23-7f12-4e9a-aa26-c1970ccc2954"
      },
      "source": [
        "len(train_data_1)\n",
        "# train_data_1\n",
        "\n",
        "# array([[    0,     0,     0, ...,   370,     7,    35],\n",
        "#        [    0,     0,     0, ...,     4, 22978,  4743],\n",
        "#        [    0,     0,     0, ...,   127,     6,  2885],\n",
        "#        ...,\n",
        "#        [    0,     0,     0, ...,     3,    48,  3963],\n",
        "#        [    0,     0,     0, ...,    32,    87,   214],\n",
        "#        [    0,     0,     0, ...,   155,    27,  4447]], dtype=int32)"
      ],
      "execution_count": null,
      "outputs": [
        {
          "output_type": "execute_result",
          "data": {
            "text/plain": [
              "404290"
            ]
          },
          "metadata": {
            "tags": []
          },
          "execution_count": 96
        }
      ]
    },
    {
      "cell_type": "markdown",
      "metadata": {
        "id": "ZF2TRS8deyC8",
        "colab_type": "text"
      },
      "source": [
        "#### Prepare Embeddings"
      ]
    },
    {
      "cell_type": "code",
      "metadata": {
        "id": "zzO_dZVwebA7",
        "colab_type": "code",
        "colab": {}
      },
      "source": [
        "nb_words = min(200000, len(word_index))+1\n",
        "\n",
        "embedding_matrix = np.zeros((nb_words, 300))\n",
        "for word, i in word_index.items():\n",
        "    if word in word2vec.vocab:\n",
        "        embedding_matrix[i] = word2vec.word_vec(word)"
      ],
      "execution_count": null,
      "outputs": []
    },
    {
      "cell_type": "code",
      "metadata": {
        "id": "UtOab5TCedE_",
        "colab_type": "code",
        "colab": {
          "base_uri": "https://localhost:8080/"
        },
        "outputId": "b423fce1-e42b-409a-da4a-229575e36221"
      },
      "source": [
        "print(len(embedding_matrix))\n",
        "print(len(embedding_matrix[0]))\n",
        "# embedding_matrix\n",
        "\n",
        "# array([[ 0.        ,  0.        ,  0.        , ...,  0.        ,\n",
        "#          0.        ,  0.        ],\n",
        "#        [ 0.08007812,  0.10498047,  0.04980469, ...,  0.00366211,\n",
        "#          0.04760742, -0.06884766],\n",
        "#        [ 0.13964844, -0.00616455,  0.21484375, ...,  0.05712891,\n",
        "#          0.09960938, -0.234375  ],\n",
        "#        ...,\n",
        "#        [ 0.        ,  0.        ,  0.        , ...,  0.        ,\n",
        "#          0.        ,  0.        ],\n",
        "#        [ 0.        ,  0.        ,  0.        , ...,  0.        ,\n",
        "#          0.        ,  0.        ],\n",
        "#        [ 0.        ,  0.        ,  0.        , ...,  0.        ,\n",
        "#          0.        ,  0.        ]])"
      ],
      "execution_count": null,
      "outputs": [
        {
          "output_type": "stream",
          "text": [
            "120500\n",
            "300\n"
          ],
          "name": "stdout"
        }
      ]
    },
    {
      "cell_type": "code",
      "metadata": {
        "id": "GeHZ4TQSe4FD",
        "colab_type": "code",
        "colab": {
          "base_uri": "https://localhost:8080/"
        },
        "outputId": "eb079dc5-a479-4271-ee80-8254bc054117"
      },
      "source": [
        "print('Null word embeddings: %d' % np.sum(np.sum(embedding_matrix, axis=1) == 0))"
      ],
      "execution_count": null,
      "outputs": [
        {
          "output_type": "stream",
          "text": [
            "Null word embeddings: 61789\n"
          ],
          "name": "stdout"
        }
      ]
    },
    {
      "cell_type": "code",
      "metadata": {
        "id": "pCHc1wXYe5rj",
        "colab_type": "code",
        "colab": {}
      },
      "source": [
        ""
      ],
      "execution_count": null,
      "outputs": []
    },
    {
      "cell_type": "markdown",
      "metadata": {
        "id": "Xd43aL4Se6hC",
        "colab_type": "text"
      },
      "source": [
        "#### Split data\n"
      ]
    },
    {
      "cell_type": "code",
      "metadata": {
        "id": "QxRSZ5zze8bj",
        "colab_type": "code",
        "colab": {}
      },
      "source": [
        "VALIDATION_SPLIT = 0.1\n",
        "\n",
        "perm = np.random.permutation(len(train_data_1))\n",
        "idx_train = perm[:int(len(train_data_1)*(1-VALIDATION_SPLIT))]\n",
        "idx_val = perm[int(len(train_data_1)*(1-VALIDATION_SPLIT)):]"
      ],
      "execution_count": null,
      "outputs": []
    },
    {
      "cell_type": "code",
      "metadata": {
        "id": "Bh-hZNsffBvI",
        "colab_type": "code",
        "colab": {}
      },
      "source": [
        "# len(idx_train)\n",
        "# 363861"
      ],
      "execution_count": null,
      "outputs": []
    },
    {
      "cell_type": "code",
      "metadata": {
        "id": "R8H_pPqLfC1W",
        "colab_type": "code",
        "colab": {}
      },
      "source": [
        "# len(idx_val)\n",
        "# 40429"
      ],
      "execution_count": null,
      "outputs": []
    },
    {
      "cell_type": "code",
      "metadata": {
        "id": "dpumEIKDfD42",
        "colab_type": "code",
        "colab": {}
      },
      "source": [
        "data_1_train = np.vstack((train_data_1[idx_train], train_data_2[idx_train]))\n",
        "data_2_train = np.vstack((train_data_2[idx_train], train_data_1[idx_train]))\n",
        "\n",
        "labels_train = np.concatenate((labels[idx_train], labels[idx_train]))"
      ],
      "execution_count": null,
      "outputs": []
    },
    {
      "cell_type": "code",
      "metadata": {
        "id": "SnGzYvzHfGXH",
        "colab_type": "code",
        "colab": {}
      },
      "source": [
        "data_1_val = np.vstack((train_data_1[idx_val], train_data_2[idx_val]))\n",
        "data_2_val = np.vstack((train_data_2[idx_val], train_data_1[idx_val]))\n",
        "labels_val = np.concatenate((labels[idx_val], labels[idx_val]))\n",
        "\n",
        "weight_val = np.ones(len(labels_val))\n",
        "\n",
        "re_weight = True # whether to re-weight classes to fit the 17.5% share in test set\n",
        "\n",
        "if re_weight:\n",
        "    weight_val *= 0.472001959\n",
        "    weight_val[labels_val==0] = 1.309028344"
      ],
      "execution_count": null,
      "outputs": []
    },
    {
      "cell_type": "code",
      "metadata": {
        "id": "Il8efLCrfHnm",
        "colab_type": "code",
        "colab": {}
      },
      "source": [
        "# weight_val\n",
        "\n",
        "# array([0.47200196, 0.47200196, 0.47200196, ..., 0.47200196, 0.47200196,\n",
        "#        0.47200196])"
      ],
      "execution_count": null,
      "outputs": []
    },
    {
      "cell_type": "code",
      "metadata": {
        "id": "d_ZUgMn9fI1h",
        "colab_type": "code",
        "colab": {}
      },
      "source": [
        ""
      ],
      "execution_count": null,
      "outputs": []
    },
    {
      "cell_type": "markdown",
      "metadata": {
        "id": "bHK1XYoVfK-J",
        "colab_type": "text"
      },
      "source": [
        "#### Define Model"
      ]
    },
    {
      "cell_type": "code",
      "metadata": {
        "id": "TAsSOz9PfMm_",
        "colab_type": "code",
        "colab": {}
      },
      "source": [
        "num_lstm = np.random.randint(175, 275)\n",
        "num_dense = np.random.randint(100, 150)\n",
        "rate_drop_lstm = 0.15 + np.random.rand() * 0.25\n",
        "rate_drop_dense = 0.15 + np.random.rand() * 0.25\n",
        "act = 'relu'\n"
      ],
      "execution_count": null,
      "outputs": []
    },
    {
      "cell_type": "code",
      "metadata": {
        "id": "tZARv8rQfNP9",
        "colab_type": "code",
        "colab": {}
      },
      "source": [
        "print(num_lstm)\n",
        "print(num_dense)\n",
        "print(rate_drop_lstm)\n",
        "print(rate_drop_dense)"
      ],
      "execution_count": null,
      "outputs": []
    },
    {
      "cell_type": "code",
      "metadata": {
        "id": "1xignDE0fOkc",
        "colab_type": "code",
        "colab": {}
      },
      "source": [
        "embedding_layer = Embedding(nb_words,\n",
        "        300,\n",
        "        weights=[embedding_matrix],\n",
        "        input_length=30,\n",
        "        trainable=False)"
      ],
      "execution_count": null,
      "outputs": []
    },
    {
      "cell_type": "code",
      "metadata": {
        "id": "YfIDAaUyfPry",
        "colab_type": "code",
        "colab": {}
      },
      "source": [
        "lstm_layer = LSTM(num_lstm, dropout=rate_drop_lstm, recurrent_dropout=rate_drop_lstm)"
      ],
      "execution_count": null,
      "outputs": []
    },
    {
      "cell_type": "code",
      "metadata": {
        "id": "zYLs8rPZfQwe",
        "colab_type": "code",
        "colab": {}
      },
      "source": [
        "sequence_1_input = Input(shape=(30,), dtype='int32')\n",
        "embedded_sequences_1 = embedding_layer(sequence_1_input)\n",
        "x1 = lstm_layer(embedded_sequences_1)"
      ],
      "execution_count": null,
      "outputs": []
    },
    {
      "cell_type": "code",
      "metadata": {
        "id": "gxMtz9UHfRv3",
        "colab_type": "code",
        "colab": {}
      },
      "source": [
        "sequence_2_input = Input(shape=(30,), dtype='int32')\n",
        "embedded_sequences_2 = embedding_layer(sequence_2_input)\n",
        "y1 = lstm_layer(embedded_sequences_2)"
      ],
      "execution_count": null,
      "outputs": []
    },
    {
      "cell_type": "code",
      "metadata": {
        "id": "NrtsvtyKfTtg",
        "colab_type": "code",
        "colab": {}
      },
      "source": [
        "merged = concatenate([x1, y1])\n",
        "merged = Dropout(rate_drop_dense)(merged)\n",
        "merged = BatchNormalization()(merged)\n",
        "\n",
        "merged = Dense(num_dense, activation=act)(merged)\n",
        "merged = Dropout(rate_drop_dense)(merged)\n",
        "merged = BatchNormalization()(merged)\n",
        "\n",
        "preds = Dense(1, activation='sigmoid')(merged)"
      ],
      "execution_count": null,
      "outputs": []
    },
    {
      "cell_type": "code",
      "metadata": {
        "id": "uuw1F_RIfVSJ",
        "colab_type": "code",
        "colab": {}
      },
      "source": [
        ""
      ],
      "execution_count": null,
      "outputs": []
    },
    {
      "cell_type": "markdown",
      "metadata": {
        "id": "l68gEZskfXRp",
        "colab_type": "text"
      },
      "source": [
        "Add Class weight\n"
      ]
    },
    {
      "cell_type": "code",
      "metadata": {
        "id": "srw3_ARffYQv",
        "colab_type": "code",
        "colab": {}
      },
      "source": [
        "if re_weight:\n",
        "    class_weight = {0: 1.309028344, 1: 0.472001959}\n",
        "else:\n",
        "    class_weight = None\n"
      ],
      "execution_count": null,
      "outputs": []
    },
    {
      "cell_type": "code",
      "metadata": {
        "id": "hhcRcESyfYd-",
        "colab_type": "code",
        "colab": {}
      },
      "source": [
        ""
      ],
      "execution_count": null,
      "outputs": []
    },
    {
      "cell_type": "markdown",
      "metadata": {
        "id": "tKWN068Ifa7u",
        "colab_type": "text"
      },
      "source": [
        "#### Train the Model"
      ]
    },
    {
      "cell_type": "code",
      "metadata": {
        "id": "EvlrsH_NfdQL",
        "colab_type": "code",
        "colab": {}
      },
      "source": [
        "model = Model(inputs=[sequence_1_input, sequence_2_input], outputs=preds)\n",
        "\n",
        "model.compile(loss='binary_crossentropy',\n",
        "        optimizer='nadam',\n",
        "        metrics=['acc'])\n",
        "\n",
        "model.summary()\n",
        "# print(STAMP)"
      ],
      "execution_count": null,
      "outputs": []
    },
    {
      "cell_type": "markdown",
      "metadata": {
        "id": "K6sxRk_affY8",
        "colab_type": "text"
      },
      "source": [
        "Adding Callbacks"
      ]
    },
    {
      "cell_type": "code",
      "metadata": {
        "id": "N8S_u4U3fdgO",
        "colab_type": "code",
        "colab": {}
      },
      "source": [
        "early_stopping =EarlyStopping(monitor='val_loss', patience=3)\n",
        "bst_model_path = 'bst_model' + '.h5'\n",
        "model_checkpoint = ModelCheckpoint(bst_model_path, save_best_only=True, save_weights_only=True)"
      ],
      "execution_count": null,
      "outputs": []
    },
    {
      "cell_type": "code",
      "metadata": {
        "id": "p-FLIXSofgo6",
        "colab_type": "code",
        "colab": {}
      },
      "source": [
        "hist = model.fit([data_1_train, data_2_train], labels_train, \\\n",
        "        validation_data=([data_1_val, data_2_val], labels_val, weight_val), \\\n",
        "        epochs=200, batch_size=2048, shuffle=True, \\\n",
        "        class_weight=class_weight, callbacks=[early_stopping, model_checkpoint])\n",
        "\n",
        "model.load_weights(bst_model_path)\n",
        "bst_val_score = min(hist.history['val_loss'])"
      ],
      "execution_count": null,
      "outputs": []
    },
    {
      "cell_type": "markdown",
      "metadata": {
        "id": "3-9g8pLDLvLB",
        "colab_type": "text"
      },
      "source": [
        "#### Test the Model"
      ]
    },
    {
      "cell_type": "code",
      "metadata": {
        "id": "hzCR9_V_fjIN",
        "colab_type": "code",
        "colab": {}
      },
      "source": [
        "preds = model.predict([test_data_1, test_data_2], batch_size=8192, verbose=1)\n",
        "preds += model.predict([test_data_2, test_data_1], batch_size=8192, verbose=1)\n",
        "\n",
        "preds /= 2\n",
        "\n",
        "submission = pd.DataFrame({'test_id':test_ids, 'is_duplicate':preds.ravel()})\n",
        "#submission.to_csv('%.4f_'%(bst_val_score)+STAMP+'.csv', index=False)"
      ],
      "execution_count": null,
      "outputs": []
    },
    {
      "cell_type": "code",
      "metadata": {
        "id": "Bzpu0V8kfkyP",
        "colab_type": "code",
        "colab": {}
      },
      "source": [
        "submission"
      ],
      "execution_count": null,
      "outputs": []
    },
    {
      "cell_type": "code",
      "metadata": {
        "id": "brlF44zOcsuc",
        "colab_type": "code",
        "colab": {}
      },
      "source": [
        ""
      ],
      "execution_count": null,
      "outputs": []
    }
  ]
}